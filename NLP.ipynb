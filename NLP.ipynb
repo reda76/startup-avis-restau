{
 "cells": [
  {
   "cell_type": "markdown",
   "id": "a0703259",
   "metadata": {},
   "source": [
    "# NLP"
   ]
  },
  {
   "cell_type": "code",
   "execution_count": 1,
   "id": "264825b4",
   "metadata": {},
   "outputs": [
    {
     "name": "stderr",
     "output_type": "stream",
     "text": [
      "[nltk_data] Downloading package stopwords to /home/reda/nltk_data...\n",
      "[nltk_data]   Package stopwords is already up-to-date!\n",
      "/home/reda/anaconda3/envs/P6/lib/python3.9/site-packages/scipy/sparse/sparsetools.py:21: DeprecationWarning: `scipy.sparse.sparsetools` is deprecated!\n",
      "scipy.sparse.sparsetools is a private module for scipy.sparse, and should not be used.\n",
      "  _deprecated()\n"
     ]
    }
   ],
   "source": [
    "# Prendre la version condaforge de yellowbrick**\n",
    "import pandas as pd\n",
    "import numpy as np\n",
    "import matplotlib.pyplot as plt\n",
    "%matplotlib inline\n",
    "import seaborn as sns\n",
    "\n",
    "import pyLDAvis.gensim_models\n",
    "import pyLDAvis\n",
    "\n",
    "from collections import Counter\n",
    "import re\n",
    "\n",
    "import nltk\n",
    "from nltk.corpus import stopwords\n",
    "\n",
    "nltk.download('stopwords')\n",
    "\n",
    "import spacy\n",
    "\n",
    "nlp = spacy.load('en_core_web_sm', disable=['parser', 'ner'])\n",
    "\n",
    "import gensim\n",
    "import gensim.corpora as corpora\n",
    "from gensim.models import CoherenceModel\n",
    "\n",
    "from pprint import pprint\n",
    "\n",
    "from sklearn.decomposition import NMF\n",
    "from sklearn.feature_extraction.text import CountVectorizer, TfidfVectorizer\n",
    "from sklearn.manifold import TSNE"
   ]
  },
  {
   "cell_type": "code",
   "execution_count": 2,
   "id": "4acc45c8",
   "metadata": {},
   "outputs": [],
   "source": [
    "df_review = pd.read_csv('data/yelp_dataset/csv/df_review.csv')\n",
    "df_business = pd.read_csv('data/yelp_dataset/csv/df_business.csv')"
   ]
  },
  {
   "cell_type": "markdown",
   "id": "aabbf3cd",
   "metadata": {},
   "source": [
    "## Analyse exploratoire des textes"
   ]
  },
  {
   "cell_type": "markdown",
   "id": "25d9725d",
   "metadata": {},
   "source": [
    "Pour notre analyse exploratoire des textes, nous allons commencer à nettoyer les commentaires, nous allons prendre les 100 premiers négatifs."
   ]
  },
  {
   "cell_type": "markdown",
   "id": "8e79676a",
   "metadata": {},
   "source": [
    "# Fonctions"
   ]
  },
  {
   "cell_type": "code",
   "execution_count": 3,
   "id": "3b1b5442",
   "metadata": {},
   "outputs": [],
   "source": [
    "def nettoyage_texte(df):\n",
    "    #Nne garde que les mots (pas de valeurs numériques)\n",
    "    tokenizer = nltk.RegexpTokenizer(r'[a-zA-Z]{1,}')\n",
    "    for i in range(len(df)):\n",
    "        cleaning_texte = tokenizer.tokenize(df['text'][i])\n",
    "        # Passe toutes les majuscules en minuscules\n",
    "        cleaning_texte = [\n",
    "            each_string.lower() for each_string in cleaning_texte\n",
    "        ]\n",
    "        df['text'][i] = cleaning_texte\n",
    "\n",
    "    return df\n",
    "\n",
    "\n",
    "def supprimer_stopwords(df):\n",
    "    stop_words = stopwords.words('english')\n",
    "    stop_words.extend(['from', 'subject', 're', 'edu', 'use', 'u'])\n",
    "\n",
    "    for i in range(len(df)):\n",
    "        for stopword in stop_words:\n",
    "            for word in df['text'][i]:\n",
    "                if stopword == word:\n",
    "                    df['text'][i].remove(stopword)\n",
    "\n",
    "    return df\n",
    "\n",
    "\n",
    "def stopwords_perso(df):\n",
    "    # Cette fonctionne suppriment les 20 mots les plus fréquents parmi tous\n",
    "    # les commentaires\n",
    "\n",
    "    # Place tous les mots du corpus dans la liste 'liste_des_textes'\n",
    "    liste_des_textes = []\n",
    "    for i in range(len(df)):\n",
    "        for y in df['text'][i]:\n",
    "            liste_des_textes.append(y)\n",
    "    # Comptabilise le nombre de mots de la liste\n",
    "    dict_count_texte = Counter(liste_des_textes)\n",
    "    # Range le dictionnaire dans l'odre décroissant\n",
    "    dict_decroissant = dict(\n",
    "        reversed(sorted(dict_count_texte.items(), key=lambda item: item[1])))\n",
    "\n",
    "    dict_20_premier_mots = {\n",
    "        k: dict_decroissant[k]\n",
    "        for k in list(dict_decroissant)[:20]\n",
    "    }\n",
    "    liste_stopword = dict_20_premier_mots.keys()\n",
    "\n",
    "    # Supprime les stopwords_perso de la dataframe\n",
    "    for i in range(len(df)):\n",
    "        for stopword in liste_stopword:\n",
    "            for word in df['text'][i]:\n",
    "                if stopword == word:\n",
    "                    df['text'][i].remove(stopword)\n",
    "\n",
    "    return df\n",
    "\n",
    "\n",
    "def lemmatisation(texts):\n",
    "    allowed_postags = ['NOUN', 'ADJ', 'VERB', 'ADV']\n",
    "\n",
    "    texts_out = []\n",
    "    doc = nlp(\" \".join(texts))\n",
    "    for word in texts:\n",
    "        texts_out.append(\n",
    "            [word.lemma_ for word in doc if word.pos_ in allowed_postags])\n",
    "\n",
    "    return texts_out[0]\n",
    "\n",
    "\n",
    "def lemmatisation_remove(df):\n",
    "    for i in range(len(df)):\n",
    "        texte = lemmatisation(df['text'][i])\n",
    "        df['text'][i] = texte\n",
    "\n",
    "    return df\n",
    "\n",
    "\n",
    "def make_bigrams(texts):\n",
    "    return [bigram_mod[doc] for doc in texts]\n",
    "\n",
    "\n",
    "def make_trigrams(texts):\n",
    "    return [trigram_mod[bigram_mod[doc]] for doc in texts]\n",
    "\n",
    "# Labélise les sujets\n",
    "def topic_table(n_top_words, feature_names, nmf):\n",
    "    topics = {}\n",
    "    for i, topic_vec in enumerate(nmf.components_):\n",
    "        topic_descr = ''\n",
    "        for fid in topic_vec.argsort()[-1:-n_top_words - 1:-1]:\n",
    "            topic_descr = topic_descr + feature_names[fid] + \" \"\n",
    "        topics[i] = topic_descr\n",
    "    return pd.DataFrame({'Top_Topic_Terms': topics})"
   ]
  },
  {
   "cell_type": "markdown",
   "id": "17fdf59e",
   "metadata": {},
   "source": [
    "# Nettoyage"
   ]
  },
  {
   "cell_type": "code",
   "execution_count": 4,
   "id": "082f6eaf",
   "metadata": {},
   "outputs": [],
   "source": [
    "# Sélection des colonnes utiles uniquement\n",
    "df_review = df_review[[\"business_id\", \"text\"]]\n",
    "df_bad_review = df_review.copy()\n",
    "df_bad_review_cleaning = df_review.copy()"
   ]
  },
  {
   "cell_type": "code",
   "execution_count": 5,
   "id": "89ef2b3f",
   "metadata": {},
   "outputs": [
    {
     "data": {
      "text/html": [
       "<div>\n",
       "<style scoped>\n",
       "    .dataframe tbody tr th:only-of-type {\n",
       "        vertical-align: middle;\n",
       "    }\n",
       "\n",
       "    .dataframe tbody tr th {\n",
       "        vertical-align: top;\n",
       "    }\n",
       "\n",
       "    .dataframe thead th {\n",
       "        text-align: right;\n",
       "    }\n",
       "</style>\n",
       "<table border=\"1\" class=\"dataframe\">\n",
       "  <thead>\n",
       "    <tr style=\"text-align: right;\">\n",
       "      <th></th>\n",
       "      <th>business_id</th>\n",
       "      <th>text</th>\n",
       "    </tr>\n",
       "  </thead>\n",
       "  <tbody>\n",
       "    <tr>\n",
       "      <th>0</th>\n",
       "      <td>04UD14gamNjLY0IDYVhHJg</td>\n",
       "      <td>I am a long term frequent customer of this est...</td>\n",
       "    </tr>\n",
       "    <tr>\n",
       "      <th>1</th>\n",
       "      <td>jNL5KUPz2-tHUJM__ysSaw</td>\n",
       "      <td>If you want to pay for everything a la carte t...</td>\n",
       "    </tr>\n",
       "    <tr>\n",
       "      <th>2</th>\n",
       "      <td>Wy8Hswf2cLQGRZN6armkag</td>\n",
       "      <td>If I could give it a zero, I would. I order a ...</td>\n",
       "    </tr>\n",
       "    <tr>\n",
       "      <th>3</th>\n",
       "      <td>aY_n9RSaD2Yw09jSFFePew</td>\n",
       "      <td>We visited once and were very disappointed in ...</td>\n",
       "    </tr>\n",
       "    <tr>\n",
       "      <th>4</th>\n",
       "      <td>cg4JFJcCxRTTMmcg9O9KtA</td>\n",
       "      <td>Skip this train wreck if you are looking for d...</td>\n",
       "    </tr>\n",
       "    <tr>\n",
       "      <th>5</th>\n",
       "      <td>GyC36Pn0Q1-qHnqXys6yFg</td>\n",
       "      <td>Service and management terrible... After messi...</td>\n",
       "    </tr>\n",
       "    <tr>\n",
       "      <th>6</th>\n",
       "      <td>EBn3U4mpnIRLIy2lKuilRQ</td>\n",
       "      <td>Been to this location twice and will never go ...</td>\n",
       "    </tr>\n",
       "    <tr>\n",
       "      <th>7</th>\n",
       "      <td>29YqJwOGEuAWqlHZxMc1OA</td>\n",
       "      <td>So disappointing on so many levels. Have been ...</td>\n",
       "    </tr>\n",
       "    <tr>\n",
       "      <th>8</th>\n",
       "      <td>bjhCtlYHrkgA5Ku8l-rB3g</td>\n",
       "      <td>Very disappointed. We went to eat  at 2:15 on ...</td>\n",
       "    </tr>\n",
       "    <tr>\n",
       "      <th>9</th>\n",
       "      <td>o7cD_sDA-Evj3Oh0zeH9nQ</td>\n",
       "      <td>Hands down the worst chicken and rice plate I'...</td>\n",
       "    </tr>\n",
       "  </tbody>\n",
       "</table>\n",
       "</div>"
      ],
      "text/plain": [
       "              business_id                                               text\n",
       "0  04UD14gamNjLY0IDYVhHJg  I am a long term frequent customer of this est...\n",
       "1  jNL5KUPz2-tHUJM__ysSaw  If you want to pay for everything a la carte t...\n",
       "2  Wy8Hswf2cLQGRZN6armkag  If I could give it a zero, I would. I order a ...\n",
       "3  aY_n9RSaD2Yw09jSFFePew  We visited once and were very disappointed in ...\n",
       "4  cg4JFJcCxRTTMmcg9O9KtA  Skip this train wreck if you are looking for d...\n",
       "5  GyC36Pn0Q1-qHnqXys6yFg  Service and management terrible... After messi...\n",
       "6  EBn3U4mpnIRLIy2lKuilRQ  Been to this location twice and will never go ...\n",
       "7  29YqJwOGEuAWqlHZxMc1OA  So disappointing on so many levels. Have been ...\n",
       "8  bjhCtlYHrkgA5Ku8l-rB3g  Very disappointed. We went to eat  at 2:15 on ...\n",
       "9  o7cD_sDA-Evj3Oh0zeH9nQ  Hands down the worst chicken and rice plate I'..."
      ]
     },
     "execution_count": 5,
     "metadata": {},
     "output_type": "execute_result"
    }
   ],
   "source": [
    "df_review.head(10)"
   ]
  },
  {
   "cell_type": "code",
   "execution_count": 6,
   "id": "1a357ca1",
   "metadata": {},
   "outputs": [
    {
     "data": {
      "text/plain": [
       "(1615, 2)"
      ]
     },
     "execution_count": 6,
     "metadata": {},
     "output_type": "execute_result"
    }
   ],
   "source": [
    "df_bad_review_cleaning.shape"
   ]
  },
  {
   "cell_type": "code",
   "execution_count": 7,
   "id": "117c4243",
   "metadata": {},
   "outputs": [
    {
     "name": "stdout",
     "output_type": "stream",
     "text": [
      "CPU times: user 13.7 s, sys: 30.4 ms, total: 13.8 s\n",
      "Wall time: 13.8 s\n"
     ]
    }
   ],
   "source": [
    "%%time\n",
    "df_bad_review_cleaning = nettoyage_texte(df_bad_review_cleaning)\n",
    "df_bad_review_cleaning = supprimer_stopwords(df_bad_review_cleaning)\n",
    "df_bad_review_cleaning = stopwords_perso(df_bad_review_cleaning)\n",
    "df_bad_review_cleaning = lemmatisation_remove(df_bad_review_cleaning)"
   ]
  },
  {
   "cell_type": "code",
   "execution_count": 8,
   "id": "ea1cc250",
   "metadata": {},
   "outputs": [
    {
     "data": {
      "text/html": [
       "<div>\n",
       "<style scoped>\n",
       "    .dataframe tbody tr th:only-of-type {\n",
       "        vertical-align: middle;\n",
       "    }\n",
       "\n",
       "    .dataframe tbody tr th {\n",
       "        vertical-align: top;\n",
       "    }\n",
       "\n",
       "    .dataframe thead th {\n",
       "        text-align: right;\n",
       "    }\n",
       "</style>\n",
       "<table border=\"1\" class=\"dataframe\">\n",
       "  <thead>\n",
       "    <tr style=\"text-align: right;\">\n",
       "      <th></th>\n",
       "      <th>business_id</th>\n",
       "      <th>text</th>\n",
       "    </tr>\n",
       "  </thead>\n",
       "  <tbody>\n",
       "    <tr>\n",
       "      <th>0</th>\n",
       "      <td>04UD14gamNjLY0IDYVhHJg</td>\n",
       "      <td>[long, term, frequent, customer, establishment...</td>\n",
       "    </tr>\n",
       "    <tr>\n",
       "      <th>1</th>\n",
       "      <td>jNL5KUPz2-tHUJM__ysSaw</td>\n",
       "      <td>[want, pay, terrible, impressive, bring, baske...</td>\n",
       "    </tr>\n",
       "    <tr>\n",
       "      <th>2</th>\n",
       "      <td>Wy8Hswf2cLQGRZN6armkag</td>\n",
       "      <td>[give, plain, hamburger, realize, put, bacon, ...</td>\n",
       "    </tr>\n",
       "    <tr>\n",
       "      <th>3</th>\n",
       "      <td>aY_n9RSaD2Yw09jSFFePew</td>\n",
       "      <td>[visit, disappointed, veggie, husband, sub, sa...</td>\n",
       "    </tr>\n",
       "    <tr>\n",
       "      <th>4</th>\n",
       "      <td>cg4JFJcCxRTTMmcg9O9KtA</td>\n",
       "      <td>[skip, train, wreck, look, dinner, server, clu...</td>\n",
       "    </tr>\n",
       "    <tr>\n",
       "      <th>5</th>\n",
       "      <td>GyC36Pn0Q1-qHnqXys6yFg</td>\n",
       "      <td>[management, terrible, mess, order, waiter, ma...</td>\n",
       "    </tr>\n",
       "  </tbody>\n",
       "</table>\n",
       "</div>"
      ],
      "text/plain": [
       "              business_id                                               text\n",
       "0  04UD14gamNjLY0IDYVhHJg  [long, term, frequent, customer, establishment...\n",
       "1  jNL5KUPz2-tHUJM__ysSaw  [want, pay, terrible, impressive, bring, baske...\n",
       "2  Wy8Hswf2cLQGRZN6armkag  [give, plain, hamburger, realize, put, bacon, ...\n",
       "3  aY_n9RSaD2Yw09jSFFePew  [visit, disappointed, veggie, husband, sub, sa...\n",
       "4  cg4JFJcCxRTTMmcg9O9KtA  [skip, train, wreck, look, dinner, server, clu...\n",
       "5  GyC36Pn0Q1-qHnqXys6yFg  [management, terrible, mess, order, waiter, ma..."
      ]
     },
     "execution_count": 8,
     "metadata": {},
     "output_type": "execute_result"
    }
   ],
   "source": [
    "df_bad_review_cleaning.head(6)"
   ]
  },
  {
   "cell_type": "markdown",
   "id": "08b64deb",
   "metadata": {},
   "source": [
    "Nos textes sont maintenant nettoyés."
   ]
  },
  {
   "cell_type": "markdown",
   "id": "1024359e",
   "metadata": {},
   "source": [
    "# Analyse LDA"
   ]
  },
  {
   "cell_type": "markdown",
   "id": "f4a3dd12",
   "metadata": {},
   "source": [
    "Nous allons travailler à la transformation des données textuelles dans un format qui servira d'entrée pour l'entrainement du modèle LDA. Nous commençons par tokeniser le texte et supprimer les mots d'arrêt. Ensuite, nous convertissons l'objet tokénisé en un corpus et un dictionnaire.\n",
    "\n",
    "Des fonctions similaires aux précédentes vont être ajoutées.\n",
    "\n",
    "Nous utiliserons ici les bi-gram et tri-gram. En effet, TF-IDF n'est pas vraiment approprié pour LDA: source : \n",
    "\n",
    "- https://datascience.stackexchange.com/questions/21950/why-we-should-not-feed-lda-with-tfidf\n",
    "- https://stackoverflow.com/questions/44781047/necessary-to-apply-tf-idf-to-new-documents-in-gensim-lda-model/44789327#44789327"
   ]
  },
  {
   "cell_type": "code",
   "execution_count": 9,
   "id": "59b7588a",
   "metadata": {},
   "outputs": [
    {
     "data": {
      "text/html": [
       "<div>\n",
       "<style scoped>\n",
       "    .dataframe tbody tr th:only-of-type {\n",
       "        vertical-align: middle;\n",
       "    }\n",
       "\n",
       "    .dataframe tbody tr th {\n",
       "        vertical-align: top;\n",
       "    }\n",
       "\n",
       "    .dataframe thead th {\n",
       "        text-align: right;\n",
       "    }\n",
       "</style>\n",
       "<table border=\"1\" class=\"dataframe\">\n",
       "  <thead>\n",
       "    <tr style=\"text-align: right;\">\n",
       "      <th></th>\n",
       "      <th>business_id</th>\n",
       "      <th>text</th>\n",
       "      <th>text_processed</th>\n",
       "    </tr>\n",
       "  </thead>\n",
       "  <tbody>\n",
       "    <tr>\n",
       "      <th>0</th>\n",
       "      <td>04UD14gamNjLY0IDYVhHJg</td>\n",
       "      <td>[long, term, frequent, customer, establishment...</td>\n",
       "      <td>long term frequent customer establishment go t...</td>\n",
       "    </tr>\n",
       "    <tr>\n",
       "      <th>1</th>\n",
       "      <td>jNL5KUPz2-tHUJM__ysSaw</td>\n",
       "      <td>[want, pay, terrible, impressive, bring, baske...</td>\n",
       "      <td>want pay terrible impressive bring basket chip...</td>\n",
       "    </tr>\n",
       "    <tr>\n",
       "      <th>2</th>\n",
       "      <td>Wy8Hswf2cLQGRZN6armkag</td>\n",
       "      <td>[give, plain, hamburger, realize, put, bacon, ...</td>\n",
       "      <td>give plain hamburger realize put bacon allergi...</td>\n",
       "    </tr>\n",
       "    <tr>\n",
       "      <th>3</th>\n",
       "      <td>aY_n9RSaD2Yw09jSFFePew</td>\n",
       "      <td>[visit, disappointed, veggie, husband, sub, sa...</td>\n",
       "      <td>visit disappointed veggie husband sub sandwich...</td>\n",
       "    </tr>\n",
       "    <tr>\n",
       "      <th>4</th>\n",
       "      <td>cg4JFJcCxRTTMmcg9O9KtA</td>\n",
       "      <td>[skip, train, wreck, look, dinner, server, clu...</td>\n",
       "      <td>skip train wreck look dinner server clueless s...</td>\n",
       "    </tr>\n",
       "  </tbody>\n",
       "</table>\n",
       "</div>"
      ],
      "text/plain": [
       "              business_id                                               text  \\\n",
       "0  04UD14gamNjLY0IDYVhHJg  [long, term, frequent, customer, establishment...   \n",
       "1  jNL5KUPz2-tHUJM__ysSaw  [want, pay, terrible, impressive, bring, baske...   \n",
       "2  Wy8Hswf2cLQGRZN6armkag  [give, plain, hamburger, realize, put, bacon, ...   \n",
       "3  aY_n9RSaD2Yw09jSFFePew  [visit, disappointed, veggie, husband, sub, sa...   \n",
       "4  cg4JFJcCxRTTMmcg9O9KtA  [skip, train, wreck, look, dinner, server, clu...   \n",
       "\n",
       "                                      text_processed  \n",
       "0  long term frequent customer establishment go t...  \n",
       "1  want pay terrible impressive bring basket chip...  \n",
       "2  give plain hamburger realize put bacon allergi...  \n",
       "3  visit disappointed veggie husband sub sandwich...  \n",
       "4  skip train wreck look dinner server clueless s...  "
      ]
     },
     "execution_count": 9,
     "metadata": {},
     "output_type": "execute_result"
    }
   ],
   "source": [
    "# Convertis la liste de mot en chaine de caractère\n",
    "df_bad_review_cleaning[\"text_processed\"] = None\n",
    "for i in range(len(df_bad_review_cleaning[\"text\"])):\n",
    "    texte = df_bad_review_cleaning[\"text\"][i]\n",
    "    df_bad_review_cleaning[\"text_processed\"][i] = \" \".join(texte)\n",
    "\n",
    "df_bad_review_cleaning.head(5)"
   ]
  },
  {
   "cell_type": "code",
   "execution_count": 10,
   "id": "43c933aa",
   "metadata": {},
   "outputs": [
    {
     "name": "stdout",
     "output_type": "stream",
     "text": [
      "['long', 'term', 'frequent', 'customer', 'establishment', 'go', 'take', 'app', 'tell', 'busy', 'really', 'maybe', 'full', 'good', 'dick', 'reach', 'ass', 'fuck', 'frequent', 'customer', 'great', 'tipper', 'glad', 'open', 'go', 'dmitris']\n"
     ]
    }
   ],
   "source": [
    "data_words = df_bad_review_cleaning.text.values.tolist()\n",
    "print(data_words[:1][0][:30])"
   ]
  },
  {
   "cell_type": "code",
   "execution_count": 11,
   "id": "cdf6013d",
   "metadata": {},
   "outputs": [
    {
     "name": "stdout",
     "output_type": "stream",
     "text": [
      "['long', 'term', 'frequent', 'customer', 'establishment', 'go', 'take', 'app', 'tell', 'busy', 'really', 'maybe', 'full', 'good', 'dick', 'reach', 'ass', 'fuck', 'frequent', 'customer', 'great', 'tipper', 'glad', 'open', 'go', 'dmitris']\n"
     ]
    }
   ],
   "source": [
    "# Construire les modèles bigramme\n",
    "bigram = gensim.models.Phrases(data_words, min_count=5, threshold=100)\n",
    "\n",
    "# Une façon plus rapide d'obtenir une phrase classée comme bigramme\n",
    "bigram_mod = gensim.models.phrases.Phraser(bigram)\n",
    "\n",
    "# Voir l'exemple du trigramme\n",
    "print(bigram_mod[data_words[0]])"
   ]
  },
  {
   "cell_type": "code",
   "execution_count": 12,
   "id": "73bfad2a",
   "metadata": {},
   "outputs": [
    {
     "name": "stdout",
     "output_type": "stream",
     "text": [
      "[['long', 'term', 'frequent', 'customer', 'establishment', 'go', 'take', 'app', 'tell', 'busy', 'really', 'maybe', 'full', 'good', 'dick', 'reach', 'ass', 'fuck', 'frequent', 'customer', 'great', 'tipper', 'glad', 'open', 'go', 'dmitris']]\n"
     ]
    }
   ],
   "source": [
    "# Application de la fonction make_bigrams\n",
    "data_words_bigrams = make_bigrams(data_words)\n",
    "\n",
    "print(data_words_bigrams[:1])"
   ]
  },
  {
   "cell_type": "code",
   "execution_count": 13,
   "id": "03083cfa",
   "metadata": {},
   "outputs": [
    {
     "name": "stdout",
     "output_type": "stream",
     "text": [
      "[(0, 1), (1, 1), (2, 1), (3, 2), (4, 1), (5, 1), (6, 1), (7, 2), (8, 1), (9, 1), (10, 1), (11, 2), (12, 1), (13, 1), (14, 1), (15, 1), (16, 1), (17, 1), (18, 1), (19, 1), (20, 1), (21, 1), (22, 1)]\n"
     ]
    }
   ],
   "source": [
    "# Créer un dictionnaire\n",
    "id2word = corpora.Dictionary(data_words_bigrams)\n",
    "# Créer un corpus\n",
    "texts = data_words_bigrams\n",
    "# TDF\n",
    "corpus = [id2word.doc2bow(text) for text in texts]\n",
    "# View\n",
    "print(corpus[:1][0][:30])"
   ]
  },
  {
   "cell_type": "code",
   "execution_count": 14,
   "id": "659871a8",
   "metadata": {},
   "outputs": [
    {
     "data": {
      "text/plain": [
       "[[('app', 1),\n",
       "  ('ass', 1),\n",
       "  ('busy', 1),\n",
       "  ('customer', 2),\n",
       "  ('dick', 1),\n",
       "  ('dmitris', 1),\n",
       "  ('establishment', 1),\n",
       "  ('frequent', 2),\n",
       "  ('fuck', 1),\n",
       "  ('full', 1),\n",
       "  ('glad', 1),\n",
       "  ('go', 2),\n",
       "  ('good', 1),\n",
       "  ('great', 1),\n",
       "  ('long', 1),\n",
       "  ('maybe', 1),\n",
       "  ('open', 1),\n",
       "  ('reach', 1),\n",
       "  ('really', 1),\n",
       "  ('take', 1),\n",
       "  ('tell', 1),\n",
       "  ('term', 1),\n",
       "  ('tipper', 1)]]"
      ]
     },
     "execution_count": 14,
     "metadata": {},
     "output_type": "execute_result"
    }
   ],
   "source": [
    "[[(id2word[id], freq) for id, freq in cp] for cp in corpus[:1]]"
   ]
  },
  {
   "cell_type": "markdown",
   "id": "7ce48252",
   "metadata": {},
   "source": [
    "## LDA model training"
   ]
  },
  {
   "cell_type": "markdown",
   "id": "4d4d6180",
   "metadata": {},
   "source": [
    "Pour garder les choses simples, nous conserverons tous les paramètres par défaut, à l'exception de la saisie du nombre de sujets. \n",
    "\n",
    "Nous allons construire un modèle de base avec 6 sujets où chaque sujet est une combinaison de mots-clés, et chaque mot-clé contribue à un certain poids pour le sujet."
   ]
  },
  {
   "cell_type": "code",
   "execution_count": 15,
   "id": "94b1d2a3",
   "metadata": {},
   "outputs": [
    {
     "name": "stdout",
     "output_type": "stream",
     "text": [
      "[(0,\n",
      "  '0.018*\"wait\" + 0.014*\"take\" + 0.013*\"come\" + 0.012*\"bad\" + 0.010*\"give\" + '\n",
      "  '0.008*\"tell\" + 0.008*\"call\" + 0.008*\"go\" + 0.008*\"delivery\" + '\n",
      "  '0.008*\"customer\"'),\n",
      " (1,\n",
      "  '0.010*\"go\" + 0.009*\"come\" + 0.009*\"tell\" + 0.009*\"ask\" + 0.008*\"take\" + '\n",
      "  '0.006*\"cheese\" + 0.006*\"bad\" + 0.006*\"sandwich\" + 0.006*\"price\" + '\n",
      "  '0.005*\"want\"'),\n",
      " (2,\n",
      "  '0.014*\"bad\" + 0.011*\"location\" + 0.009*\"customer\" + 0.009*\"look\" + '\n",
      "  '0.008*\"go\" + 0.008*\"come\" + 0.007*\"taste\" + 0.007*\"make\" + 0.007*\"eat\" + '\n",
      "  '0.006*\"try\"'),\n",
      " (3,\n",
      "  '0.011*\"make\" + 0.010*\"go\" + 0.009*\"eat\" + 0.009*\"salad\" + 0.009*\"want\" + '\n",
      "  '0.007*\"ask\" + 0.007*\"sandwich\" + 0.006*\"try\" + 0.006*\"look\" + 0.006*\"bad\"'),\n",
      " (4,\n",
      "  '0.010*\"make\" + 0.008*\"take\" + 0.008*\"go\" + 0.008*\"tell\" + '\n",
      "  '0.008*\"restaurant\" + 0.008*\"ask\" + 0.007*\"come\" + 0.007*\"well\" + '\n",
      "  '0.006*\"give\" + 0.006*\"table\"'),\n",
      " (5,\n",
      "  '0.010*\"go\" + 0.009*\"eat\" + 0.007*\"give\" + 0.007*\"say\" + 0.006*\"leave\" + '\n",
      "  '0.006*\"business\" + 0.006*\"want\" + 0.006*\"look\" + 0.005*\"call\" + '\n",
      "  '0.005*\"menu\"')]\n"
     ]
    }
   ],
   "source": [
    "# nombre de sujets\n",
    "num_topics = 6\n",
    "# Construire un modèle LDA\n",
    "lda_model = gensim.models.LdaMulticore(corpus=corpus,\n",
    "                                       id2word=id2word,\n",
    "                                       num_topics=num_topics,\n",
    "                                       chunksize=100,\n",
    "                                       passes=10,\n",
    "                                       per_word_topics=True,\n",
    "                                       iterations=1000,\n",
    "                                       random_state=np.random.RandomState(100))\n",
    "# Imprimer le mot-clé dans les x sujets\n",
    "pprint(lda_model.print_topics())\n",
    "doc_lda = lda_model[corpus]"
   ]
  },
  {
   "cell_type": "code",
   "execution_count": 16,
   "id": "e005241a",
   "metadata": {},
   "outputs": [
    {
     "name": "stdout",
     "output_type": "stream",
     "text": [
      "\n",
      "Perplexity:  -7.557490537982459\n",
      "\n",
      "Coherence Score:  0.3283935850850969\n"
     ]
    }
   ],
   "source": [
    "# Compute Perplexity\n",
    "# Une mesure de la qualité du modèle. Plus elle est faible, mieux c'est\n",
    "print('\\nPerplexity: ', lda_model.log_perplexity(\n",
    "    corpus))  \n",
    "\n",
    "# Compute Coherence Score\n",
    "coherence_model_lda = CoherenceModel(model=lda_model,\n",
    "                                     texts=data_words_bigrams,\n",
    "                                     dictionary=id2word,\n",
    "                                     coherence='c_v')\n",
    "coherence_lda = coherence_model_lda.get_coherence()\n",
    "print('\\nCoherence Score: ', coherence_lda)"
   ]
  },
  {
   "cell_type": "markdown",
   "id": "d29d92a6",
   "metadata": {},
   "source": [
    "La perplexité du modèle et la cohérence du sujet fournissent une mesure pratique pour juger de la qualité d'un modèle de sujet donné.\n",
    "\n",
    "Voyons si nous pouvons améliorer notre modèle."
   ]
  },
  {
   "cell_type": "markdown",
   "id": "27cb9695",
   "metadata": {},
   "source": [
    "## Trouver le nombre optimal de topic"
   ]
  },
  {
   "cell_type": "markdown",
   "id": "95b54a3c",
   "metadata": {},
   "source": [
    "Notre approche pour trouver le nombre optimal de sujets consiste à construire de nombreux modèles LDA avec différentes valeurs du nombre de sujets (k) et à choisir celui qui donne la valeur de cohérence la plus élevée."
   ]
  },
  {
   "cell_type": "code",
   "execution_count": 17,
   "id": "e3ab9a5d",
   "metadata": {},
   "outputs": [],
   "source": [
    "def compute_coherence_values(dictionary, corpus, texts, limit, start, step):\n",
    "    \"\"\"\n",
    "    Compute c_v coherence for various number of topics\n",
    "\n",
    "    Parameters:\n",
    "    ----------\n",
    "    dictionary : Gensim dictionary\n",
    "    corpus : Gensim corpus\n",
    "    texts : List of input texts\n",
    "    limit : Max num of topics\n",
    "\n",
    "    Returns:\n",
    "    -------\n",
    "    model_list : List of LDA topic models\n",
    "    coherence_values : Coherence values corresponding to the LDA model \n",
    "    with respective number of topics\n",
    "    \"\"\"\n",
    "    coherence_values = []\n",
    "    model_list = []\n",
    "    for num_topics in range(start, limit, step):\n",
    "        model = gensim.models.ldamodel.LdaModel(corpus=corpus,\n",
    "                                                num_topics=num_topics,\n",
    "                                                id2word=id2word,\n",
    "                                                alpha='auto',\n",
    "                                                random_state=100,\n",
    "                                                update_every=1,\n",
    "                                                chunksize=100,\n",
    "                                                passes=10,\n",
    "                                                per_word_topics=True)\n",
    "        model_list.append(model)\n",
    "        coherencemodel = CoherenceModel(model=model,\n",
    "                                        texts=texts,\n",
    "                                        dictionary=dictionary,\n",
    "                                        coherence='c_v')\n",
    "        coherence_values.append(coherencemodel.get_coherence())\n",
    "\n",
    "    return model_list, coherence_values"
   ]
  },
  {
   "cell_type": "code",
   "execution_count": 18,
   "id": "ca3fdd0d",
   "metadata": {},
   "outputs": [
    {
     "name": "stdout",
     "output_type": "stream",
     "text": [
      "CPU times: user 41.7 s, sys: 640 ms, total: 42.3 s\n",
      "Wall time: 44.4 s\n"
     ]
    }
   ],
   "source": [
    "%%time\n",
    "model_list, coherence_values = compute_coherence_values(\n",
    "    dictionary=id2word,\n",
    "    corpus=corpus,\n",
    "    texts=data_words_bigrams,\n",
    "    start=2,\n",
    "    limit=20,\n",
    "    step=2)"
   ]
  },
  {
   "cell_type": "code",
   "execution_count": 19,
   "id": "3533f243",
   "metadata": {},
   "outputs": [
    {
     "data": {
      "image/png": "[encoded data removed]",
      "text/plain": [
       "<Figure size 432x288 with 1 Axes>"
      ]
     },
     "metadata": {
      "needs_background": "light"
     },
     "output_type": "display_data"
    }
   ],
   "source": [
    "# Show graph\n",
    "limit = 20\n",
    "start = 2\n",
    "step = 2\n",
    "x = range(start, limit, step)\n",
    "plt.plot(x, coherence_values)\n",
    "plt.xlabel(\"Nb de topic\")\n",
    "plt.ylabel(\"Coherence score\")\n",
    "plt.legend((\"coherence_values\"), loc='best')\n",
    "plt.show()"
   ]
  },
  {
   "cell_type": "code",
   "execution_count": 20,
   "id": "66204f74",
   "metadata": {},
   "outputs": [
    {
     "name": "stdout",
     "output_type": "stream",
     "text": [
      "Num Topics = 2  has Coherence Value of 0.3829\n",
      "Num Topics = 4  has Coherence Value of 0.4157\n",
      "Num Topics = 6  has Coherence Value of 0.4182\n",
      "Num Topics = 8  has Coherence Value of 0.433\n",
      "Num Topics = 10  has Coherence Value of 0.4816\n",
      "Num Topics = 12  has Coherence Value of 0.4759\n",
      "Num Topics = 14  has Coherence Value of 0.4382\n",
      "Num Topics = 16  has Coherence Value of 0.4265\n",
      "Num Topics = 18  has Coherence Value of 0.4266\n"
     ]
    }
   ],
   "source": [
    "# Score de cohérence\n",
    "for m, cv in zip(x, coherence_values):\n",
    "    print(\"Num Topics =\", m, \" has Coherence Value of\", round(cv, 4))"
   ]
  },
  {
   "cell_type": "markdown",
   "id": "aeea9bad",
   "metadata": {},
   "source": [
    "Nous aurons un meilleur score avec ce modèle si nous prenons 8 topic (nous passerons alors d'un score de 0.32 environ à 0.50)."
   ]
  },
  {
   "cell_type": "code",
   "execution_count": 21,
   "id": "c666376f",
   "metadata": {},
   "outputs": [
    {
     "name": "stdout",
     "output_type": "stream",
     "text": [
      "[(0,\n",
      "  '0.027*\"customer\" + 0.026*\"order\" + 0.023*\"horrible\" + 0.017*\"charge\" + '\n",
      "  '0.015*\"line\" + 0.015*\"roll\" + 0.014*\"breakfast\" + 0.014*\"half\" + '\n",
      "  '0.014*\"people\" + 0.013*\"counter\"'),\n",
      " (1,\n",
      "  '0.032*\"ask\" + 0.027*\"tell\" + 0.026*\"take\" + 0.025*\"wait\" + 0.023*\"come\" + '\n",
      "  '0.021*\"drink\" + 0.017*\"call\" + 0.015*\"table\" + 0.015*\"leave\" + '\n",
      "  '0.013*\"hour\"'),\n",
      " (2,\n",
      "  '0.048*\"owner\" + 0.047*\"hotel\" + 0.033*\"egg\" + 0.018*\"bougie\" + '\n",
      "  '0.018*\"kardashian\" + 0.018*\"emilio\" + 0.017*\"fill\" + 0.017*\"milk\" + '\n",
      "  '0.016*\"month\" + 0.014*\"sad\"'),\n",
      " (3,\n",
      "  '0.051*\"subway\" + 0.033*\"save\" + 0.031*\"mushroom\" + 0.029*\"lettuce\" + '\n",
      "  '0.028*\"nasty\" + 0.018*\"replace\" + 0.017*\"prepare\" + 0.017*\"crust\" + '\n",
      "  '0.016*\"tomato\" + 0.016*\"veggie\"'),\n",
      " (4,\n",
      "  '0.020*\"bad\" + 0.020*\"go\" + 0.016*\"give\" + 0.016*\"make\" + 0.014*\"eat\" + '\n",
      "  '0.014*\"ever\" + 0.012*\"well\" + 0.012*\"look\" + 0.012*\"restaurant\" + '\n",
      "  '0.010*\"try\"'),\n",
      " (5,\n",
      "  '0.031*\"downtown\" + 0.021*\"shame\" + 0.020*\"straw\" + 0.020*\"truck\" + '\n",
      "  '0.019*\"napkin\" + 0.015*\"mile\" + 0.014*\"dog\" + 0.013*\"simply\" + '\n",
      "  '0.012*\"otherwise\" + 0.011*\"fee\"'),\n",
      " (6,\n",
      "  '0.037*\"chicken\" + 0.036*\"sauce\" + 0.035*\"delivery\" + 0.025*\"salad\" + '\n",
      "  '0.024*\"small\" + 0.020*\"portion\" + 0.020*\"tasteless\" + 0.018*\"bland\" + '\n",
      "  '0.018*\"rice\" + 0.016*\"beef\"'),\n",
      " (7,\n",
      "  '0.048*\"purchase\" + 0.034*\"type\" + 0.031*\"forever\" + 0.025*\"fix\" + '\n",
      "  '0.022*\"shoestring\" + 0.021*\"one\" + 0.017*\"slice\" + 0.017*\"unacceptable\" + '\n",
      "  '0.015*\"bartender\" + 0.015*\"very\"'),\n",
      " (8,\n",
      "  '0.044*\"garlic\" + 0.025*\"pasta\" + 0.022*\"truly\" + 0.022*\"movie\" + '\n",
      "  '0.021*\"smell\" + 0.021*\"pork\" + 0.019*\"potato\" + 0.018*\"daughter\" + '\n",
      "  '0.017*\"tongue\" + 0.016*\"casually\"'),\n",
      " (9,\n",
      "  '0.044*\"none\" + 0.040*\"shrimp\" + 0.024*\"boyfriend\" + 0.016*\"consistently\" + '\n",
      "  '0.015*\"selection\" + 0.014*\"b\" + 0.014*\"past\" + 0.013*\"school\" + '\n",
      "  '0.012*\"redeem\" + 0.011*\"crowd\"')]\n"
     ]
    }
   ],
   "source": [
    "# Sélection du modèle avec le meilleur score\n",
    "optimal_model = model_list[4]\n",
    "model_topics = optimal_model.show_topics(formatted=False)\n",
    "pprint(optimal_model.print_topics(num_words=10))"
   ]
  },
  {
   "cell_type": "markdown",
   "id": "2f153f8a",
   "metadata": {},
   "source": [
    "## Analyzing LDA model results"
   ]
  },
  {
   "cell_type": "markdown",
   "id": "cb1b0b0e",
   "metadata": {},
   "source": [
    "Maintenant que nous disposons d'un modèle entrainé, visualisons les sujets pour en faciliter l'interprétation. \n",
    "\n",
    "Nous utiliserons la librairie **pyLDAvis** qui est conçue pour aider de manière interactive à :\n",
    "\n",
    "- Mieux comprendre et interpréter les sujets individuels\n",
    "- Mieux comprendre les relations entre les sujets."
   ]
  },
  {
   "cell_type": "code",
   "execution_count": 22,
   "id": "eaa5bcfe",
   "metadata": {},
   "outputs": [
    {
     "name": "stderr",
     "output_type": "stream",
     "text": [
      "/home/reda/anaconda3/envs/P6/lib/python3.9/site-packages/pyLDAvis/_prepare.py:246: FutureWarning: In a future version of pandas all arguments of DataFrame.drop except for the argument 'labels' will be keyword-only.\n",
      "  default_term_info = default_term_info.sort_values(\n",
      "/home/reda/anaconda3/envs/P6/lib/python3.9/site-packages/past/builtins/misc.py:45: DeprecationWarning: the imp module is deprecated in favour of importlib; see the module's documentation for alternative uses\n",
      "  from imp import reload\n",
      "/home/reda/anaconda3/envs/P6/lib/python3.9/site-packages/past/builtins/misc.py:45: DeprecationWarning: the imp module is deprecated in favour of importlib; see the module's documentation for alternative uses\n",
      "  from imp import reload\n",
      "/home/reda/anaconda3/envs/P6/lib/python3.9/site-packages/past/builtins/misc.py:45: DeprecationWarning: the imp module is deprecated in favour of importlib; see the module's documentation for alternative uses\n",
      "  from imp import reload\n",
      "/home/reda/anaconda3/envs/P6/lib/python3.9/site-packages/past/builtins/misc.py:45: DeprecationWarning: the imp module is deprecated in favour of importlib; see the module's documentation for alternative uses\n",
      "  from imp import reload\n",
      "/home/reda/anaconda3/envs/P6/lib/python3.9/site-packages/past/builtins/misc.py:45: DeprecationWarning: the imp module is deprecated in favour of importlib; see the module's documentation for alternative uses\n",
      "  from imp import reload\n",
      "/home/reda/anaconda3/envs/P6/lib/python3.9/site-packages/past/builtins/misc.py:45: DeprecationWarning: the imp module is deprecated in favour of importlib; see the module's documentation for alternative uses\n",
      "  from imp import reload\n",
      "/home/reda/anaconda3/envs/P6/lib/python3.9/site-packages/past/builtins/misc.py:45: DeprecationWarning: the imp module is deprecated in favour of importlib; see the module's documentation for alternative uses\n",
      "  from imp import reload\n",
      "/home/reda/anaconda3/envs/P6/lib/python3.9/site-packages/past/builtins/misc.py:45: DeprecationWarning: the imp module is deprecated in favour of importlib; see the module's documentation for alternative uses\n",
      "  from imp import reload\n"
     ]
    },
    {
     "data": {
      "text/html": [
       "\n",
       "<link rel=\"stylesheet\" type=\"text/css\" href=\"https://cdn.jsdelivr.net/gh/bmabey/pyLDAvis@3.3.1/pyLDAvis/js/ldavis.v1.0.0.css\">\n",
       "\n",
       "\n",
       "<div id=\"ldavis_el9711399400476114881043756993\"></div>\n",
       "<script type=\"text/javascript\">\n",
       "\n",
       "var ldavis_el9711399400476114881043756993_data = {\"mdsDat\": {\"x\": [-0.32353214988805434, -0.32153292157289326, -0.06889899090451497, 0.05288099804647406, 0.11620105172335203, 0.11701696969964274, 0.11396072280848038, 0.10912437835986342, 0.10381144052079481, 0.10096850120685481], \"y\": [0.012252389188756041, 0.13089139440050435, -0.3657384695543495, 0.0671460843230537, 0.033245294832438675, 0.032104218479869905, 0.02645877945473831, 0.021936403227881176, 0.02126510202325632, 0.020438803623851382], \"topics\": [1, 2, 3, 4, 5, 6, 7, 8, 9, 10], \"cluster\": [1, 1, 1, 1, 1, 1, 1, 1, 1, 1], \"Freq\": [49.25027985405053, 27.631395368329304, 8.476609142752169, 5.710199714086439, 2.440806117651383, 2.235178069829645, 1.5106208107059431, 1.3934650510003985, 0.7559332527224154, 0.595512618871767]}, \"tinfo\": {\"Term\": [\"ask\", \"customer\", \"tell\", \"chicken\", \"wait\", \"drink\", \"bad\", \"horrible\", \"come\", \"sauce\", \"call\", \"delivery\", \"take\", \"order\", \"small\", \"table\", \"leave\", \"cheese\", \"salad\", \"people\", \"owner\", \"hour\", \"ever\", \"hotel\", \"eat\", \"purchase\", \"charge\", \"staff\", \"look\", \"well\", \"bad\", \"fry\", \"try\", \"location\", \"really\", \"look\", \"ever\", \"drive\", \"need\", \"taste\", \"always\", \"terrible\", \"find\", \"meat\", \"bread\", \"business\", \"expect\", \"home\", \"literally\", \"eat\", \"sure\", \"reason\", \"guess\", \"store\", \"wrong\", \"mcdonald\", \"window\", \"extra\", \"visit\", \"care\", \"well\", \"also\", \"sandwich\", \"time\", \"know\", \"cook\", \"rude\", \"go\", \"give\", \"make\", \"much\", \"close\", \"think\", \"restaurant\", \"first\", \"thing\", \"work\", \"customer\", \"want\", \"say\", \"take\", \"drink\", \"call\", \"table\", \"hour\", \"check\", \"bar\", \"server\", \"sit\", \"min\", \"waitress\", \"hand\", \"finally\", \"bring\", \"however\", \"away\", \"pick\", \"seat\", \"busy\", \"waiter\", \"hot\", \"steak\", \"water\", \"phone\", \"arrive\", \"deliver\", \"later\", \"girl\", \"stop\", \"ready\", \"ice\", \"tell\", \"leave\", \"ask\", \"walk\", \"wait\", \"receive\", \"friend\", \"come\", \"take\", \"long\", \"still\", \"menu\", \"want\", \"manager\", \"experience\", \"see\", \"pay\", \"order\", \"breakfast\", \"counter\", \"absolutely\", \"online\", \"front\", \"yet\", \"show\", \"deal\", \"cashier\", \"regular\", \"cause\", \"cup\", \"yelp\", \"thank\", \"ahead\", \"fire\", \"deserve\", \"carry\", \"tender\", \"fake\", \"acknowledge\", \"lack\", \"coupon\", \"available\", \"simple\", \"stand\", \"park\", \"confused\", \"book\", \"throw\", \"line\", \"coffee\", \"roll\", \"charge\", \"barely\", \"horrible\", \"half\", \"customer\", \"poor\", \"people\", \"review\", \"staff\", \"slow\", \"sauce\", \"delivery\", \"tasteless\", \"bland\", \"rice\", \"beef\", \"beer\", \"hope\", \"soup\", \"wing\", \"weak\", \"trash\", \"correct\", \"website\", \"bean\", \"cent\", \"pepper\", \"staple\", \"pricey\", \"frozen\", \"alright\", \"unimpressive\", \"famous\", \"epic\", \"dominos\", \"green\", \"ton\", \"bore\", \"nuff\", \"manage\", \"portion\", \"onion\", \"salad\", \"chicken\", \"container\", \"small\", \"cheese\", \"hungry\", \"owner\", \"hotel\", \"egg\", \"milk\", \"month\", \"sad\", \"latte\", \"arrogant\", \"lol\", \"encounter\", \"bougie\", \"emilio\", \"kardashian\", \"addition\", \"fill\", \"almond\", \"train\", \"harass\", \"early\", \"contact\", \"product\", \"greasy\", \"shot\", \"smoke\", \"health\", \"previous\", \"generally\", \"chocolate\", \"steak_shake\", \"ordering\", \"shop\", \"purchase\", \"type\", \"forever\", \"fix\", \"one\", \"slice\", \"unacceptable\", \"bartender\", \"very\", \"clearly\", \"response\", \"cancel\", \"accuse\", \"tourist\", \"light\", \"pleasant\", \"forward\", \"possible\", \"difficult\", \"music\", \"sale\", \"eye\", \"wash_hand\", \"undercooked\", \"wear\", \"spit\", \"personal\", \"cute\", \"occasion\", \"smoothie\", \"shoestring\", \"garlic\", \"pasta\", \"truly\", \"movie\", \"smell\", \"pork\", \"potato\", \"daughter\", \"tongue\", \"casually\", \"rating\", \"afternoon\", \"dip\", \"nachos\", \"hurry\", \"cooking\", \"complaint\", \"greek\", \"photo\", \"fat\", \"follow\", \"pie\", \"dark\", \"gravy\", \"tuna\", \"broccoli\", \"lemon\", \"inquire\", \"toilet\", \"crouton\", \"subway\", \"save\", \"mushroom\", \"lettuce\", \"nasty\", \"replace\", \"prepare\", \"crust\", \"tomato\", \"veggie\", \"machine\", \"sub\", \"additional\", \"crazy\", \"fall\", \"limited\", \"tasty\", \"other\", \"bbq\", \"dough\", \"mayo\", \"result\", \"gluten_free\", \"promotion\", \"pico\", \"doughy\", \"assemble\", \"breadstick\", \"excessive\", \"quizno\", \"topping\", \"pizza\", \"downtown\", \"shame\", \"straw\", \"truck\", \"napkin\", \"mile\", \"dog\", \"simply\", \"otherwise\", \"fee\", \"taco\", \"patio\", \"papa\", \"month_ago\", \"sodium\", \"screen\", \"announce\", \"tv\", \"toy\", \"locate\", \"blow\", \"potential\", \"garden\", \"cuisine\", \"inconvenience\", \"tight\", \"label\", \"hype\", \"brother\", \"crave\", \"style\", \"none\", \"shrimp\", \"boyfriend\", \"consistently\", \"selection\", \"b\", \"past\", \"school\", \"redeem\", \"crowd\", \"miserable\", \"consistency\", \"excellent\", \"leg\", \"confuse\", \"sight\", \"human\", \"prefer\", \"dressing\", \"consistent\", \"factor\", \"admit\", \"effect\", \"heater\", \"wilt\", \"sandwhich\", \"professional\", \"reset\", \"dim\", \"cousin\"], \"Freq\": [561.0, 371.0, 467.0, 181.0, 465.0, 363.0, 610.0, 206.0, 512.0, 128.0, 292.0, 123.0, 659.0, 136.0, 146.0, 262.0, 261.0, 176.0, 110.0, 247.0, 73.0, 227.0, 436.0, 71.0, 439.0, 66.0, 108.0, 197.0, 365.0, 375.0, 609.8741459712677, 280.78075842922937, 294.7893236946468, 251.68301954228386, 238.8847310939079, 364.3148954912871, 435.09701371777913, 213.1972755680689, 212.1760938588406, 269.2353545824521, 162.30090018065786, 158.30388690422535, 136.11211481933313, 135.50727446660045, 133.12766802054128, 132.91200336819412, 130.28445708588276, 128.89947699765068, 125.91334121605992, 437.1941342424388, 117.453247666061, 116.06892046193607, 110.87006108932381, 108.96698197924549, 107.18995208124318, 106.892570467008, 106.70290053731792, 102.38881977150672, 102.11883090350582, 101.42062102688595, 372.29580758947833, 236.3830920923449, 225.89862491966755, 154.691805581482, 265.4620534646438, 117.14833659489459, 179.4488302889849, 594.7629446076901, 502.71218984440134, 496.944157461692, 208.85207635867292, 162.54378726164612, 159.41441438420227, 362.2410517043602, 245.3342041668766, 175.65927803416199, 175.62923117210087, 231.39200599026307, 228.51291481597747, 187.29663918811644, 203.39226204706398, 362.8280517005079, 292.1825817869421, 262.0458421361497, 227.2063290467835, 167.8605936864186, 150.84593479615987, 147.37043851620655, 135.4878341084943, 127.04732152925203, 122.6973054686783, 121.36967958595937, 114.95522064619428, 108.83820863865981, 101.34504471090004, 98.21853934755194, 97.71726553936942, 94.08611805246875, 93.11742081113483, 88.38989861565749, 87.53578780026989, 86.25697462019522, 104.37363004090123, 81.29129739850507, 80.39589087742202, 77.77315967929238, 76.59406615259685, 75.30068082801338, 72.02271275389914, 71.36553292531337, 69.39184345102197, 459.00576619106147, 257.23622223035227, 539.6999321444457, 174.59123631034285, 429.4739696103971, 98.27178739691281, 109.21303923227654, 385.24841879909985, 446.3802690785378, 154.63639643343635, 135.74756864925294, 119.47572283460059, 153.2594800728434, 122.05941183353532, 110.43349216803149, 107.90586212939294, 109.75952650303886, 135.69123573585992, 73.98048540210337, 68.44256036894566, 63.209992899900655, 61.187463784430626, 59.92233145263721, 55.2757235594687, 54.08382212843664, 51.422158100250655, 50.962072226903715, 46.75797654973085, 44.01278757128694, 43.89857589825351, 42.65451045845308, 40.66719705668563, 38.91560859423261, 38.52888553400412, 38.26001395073642, 38.12545601803118, 37.53432254637069, 37.441072724008855, 36.348884820836474, 35.687884213520654, 33.588464850790494, 33.590375137147, 32.50294340729447, 58.71576820739574, 30.6497702157681, 30.098056553487353, 29.142373511698136, 60.49100562409089, 79.30077947426206, 66.2299357756103, 76.8600197877883, 90.29914813053183, 38.818653011764866, 118.0472251274438, 72.98689221457677, 139.09493608658477, 49.242013260618776, 71.02931772087085, 52.88733307876324, 48.870821659027975, 39.166498568970574, 127.57135816429549, 122.42414618313295, 72.1620660221716, 65.34707131465682, 63.13995072441621, 58.02095068760879, 51.02127174566941, 44.071427761899095, 42.53893862030541, 42.01606320924769, 40.89574425562805, 34.999931687999954, 30.43642917989467, 30.361857757216377, 30.20858777954279, 28.000209960797317, 26.591768462074473, 26.213691546565972, 23.625757429555627, 22.89713262426872, 22.21175055543561, 22.123138984061686, 21.971303958294172, 21.847736826841416, 21.185175759193378, 20.720359950371854, 19.95507804799823, 19.98083313089032, 19.841369628551515, 19.577101513299674, 72.20602294340434, 37.42025782738535, 87.51189795541171, 129.2206049981363, 34.54814892860053, 83.38431145638667, 53.220246680021205, 26.17965257847301, 73.00939395463492, 70.38718899940449, 50.28783808065295, 26.192140951126426, 24.022782604641932, 20.516516819516603, 20.04697991705601, 19.390234303723478, 19.211985511990836, 19.208001449971288, 27.5342352671211, 27.5342352671211, 27.5342352671211, 18.277817224111377, 26.412088747916066, 17.297812527785265, 17.11592996762166, 15.428735974405479, 15.082184477973463, 14.111408399884724, 13.8684481431672, 13.816680659341165, 12.860597216751069, 12.742663635126515, 11.251795130295584, 10.631475829771015, 10.477896710204615, 9.936695929446778, 9.882566425800539, 9.822486151553067, 16.82695885906397, 65.82095019638163, 46.368549048238734, 42.651006545886126, 33.956662368121826, 29.714064173942052, 24.004239085640737, 23.334107131630045, 20.64621934785867, 20.62764744259424, 19.10352476433715, 18.572084335933226, 18.266199284714823, 18.26311384401641, 16.420649694452003, 16.011518969558395, 14.989517947507126, 13.656539286729801, 12.440746823133948, 12.09747061081713, 12.000175521937736, 11.906169422662956, 11.535532630157048, 11.519484473672657, 11.295989062949252, 11.262884023438987, 10.381112094206825, 8.548495589193006, 8.44624704750134, 8.346649150585032, 8.245913698705593, 30.45352643134553, 41.169516802449095, 23.73858113492776, 20.693287776838073, 20.632969300434112, 19.727187397860803, 19.681746979784027, 17.539175979735717, 16.85768115471391, 15.96049453490078, 14.804775531466104, 11.957398310465969, 10.601658753569035, 10.411995724794291, 9.993441500231025, 9.908168668155511, 9.49563601729255, 8.931812633218739, 8.545612613210617, 8.445884869831968, 7.978002672742555, 7.660414288406092, 7.541899165428658, 7.498281936381446, 7.367360595408687, 7.0253102209193985, 7.00343456458334, 6.979949034075524, 6.759218655275576, 6.607936193457169, 5.9933238477494735, 43.61825718088849, 28.394999272785196, 26.64037767049441, 25.0228711190057, 23.912668249226606, 15.41795385915376, 15.073583227233371, 14.618636770496446, 13.72561960500735, 13.662435943577659, 13.347389855271365, 13.339700515312959, 12.788988284817886, 12.352968013178083, 10.330601730231969, 9.69042683230772, 9.43421857103432, 8.257367258900054, 7.843174946461168, 7.826202017555694, 5.550471420776405, 5.498125038303134, 5.324868724344763, 4.693572628722603, 4.64217516573553, 4.314900344380698, 4.165831638756083, 4.014021788648699, 3.71346971262143, 3.47106274838639, 8.8619088848445, 4.44634195696822, 14.591515880303048, 9.596501267504602, 9.38737181635912, 9.237630266977916, 8.76213318419177, 6.855410586466319, 6.641715918568193, 5.876581146731372, 5.665182158072574, 5.135661020004475, 4.967234671955854, 4.498791062543306, 4.223284719184111, 3.811510272030544, 3.113025137748834, 2.9851302287962582, 2.9352912460011877, 2.7619899017466736, 2.720667675438751, 2.6427845025206453, 2.5626646870944554, 2.524132872190648, 2.5008273056028076, 2.3702763972873644, 2.2634445305261917, 2.21568533988313, 2.082930684064835, 1.9779703470384393, 1.9596602464438668, 1.8600524278185255, 3.6743707773690892, 16.37139985109678, 14.80956626841324, 8.755888093276525, 6.066910539168888, 5.576335539039389, 5.272103747109802, 5.009000333799203, 4.871811349003615, 4.550652620349327, 4.0730244134158635, 3.405356366184892, 3.265051501520968, 3.094489171125248, 3.0066933007219063, 2.91641859308469, 2.807931021874709, 2.1591346762212678, 2.0277094513605793, 1.9280388797163404, 1.8238163364028057, 1.8138041954290949, 1.5308718004183846, 1.339753346716355, 1.2767795714097585, 1.2499954639427366, 1.2174879265567353, 1.2094341939944317, 1.2110105827656699, 1.0754780461133493, 0.8809154090516795], \"Total\": [561.0, 371.0, 467.0, 181.0, 465.0, 363.0, 610.0, 206.0, 512.0, 128.0, 292.0, 123.0, 659.0, 136.0, 146.0, 262.0, 261.0, 176.0, 110.0, 247.0, 73.0, 227.0, 436.0, 71.0, 439.0, 66.0, 108.0, 197.0, 365.0, 375.0, 610.9409024947023, 281.4624145633651, 295.55415108989655, 252.36465914573682, 239.56637202453717, 365.3791408477897, 436.4318955373678, 213.87890606583198, 212.85777641279194, 270.21069413654345, 162.98256638732113, 158.99685882961407, 136.7937623453938, 136.18891274895054, 133.8093392666124, 133.59363648305634, 130.97069094978718, 129.58113496931537, 126.59507025819883, 439.62151692340467, 118.1348929096219, 116.7506188794548, 111.5517542107425, 109.64862413900931, 107.871573264801, 107.57424371807778, 107.38463209931349, 103.07046172840253, 102.80065474522492, 102.10227661971817, 375.3892818951443, 238.15625596455777, 228.37280431358232, 156.22389428523783, 274.3133024715355, 118.14681600526983, 184.77710437318464, 662.4223833896837, 557.7703739029666, 559.3790817230006, 224.13710722752685, 169.72212404495355, 166.39109272036598, 446.30089530528795, 286.00386994428544, 204.4472923943566, 207.09581505470325, 371.0678631674412, 382.34235638441424, 262.8111571055968, 659.1564313282024, 363.507061897094, 292.874384258248, 262.7283148915249, 227.8852768750356, 168.5395807925232, 151.52497916585642, 148.04942749480787, 136.16678235400323, 127.7263548945911, 123.37622333940587, 122.0487066429693, 115.63416691594011, 109.51714989145579, 102.02405252749313, 98.89752044541956, 98.39623825542078, 94.76508639466245, 93.79830864526576, 89.06888034152976, 88.21475244617532, 86.93596168143766, 105.22039255821822, 81.97022335143247, 81.07481254369495, 78.45209481371037, 77.27300188472823, 75.97964920024575, 72.70168621266866, 72.04453026173842, 70.07088083399633, 467.9769731251764, 261.4215644290363, 561.4414031728489, 180.13158258090886, 465.49524773672493, 101.07074361986689, 115.89457108423866, 512.1535063667267, 659.1564313282024, 186.16236108655548, 176.13967818848909, 169.20093341811662, 382.34235638441424, 233.33265459640091, 161.24336482408825, 199.19993020902314, 249.78936208683166, 136.38836470799288, 74.6703691274029, 69.13239033668734, 63.899848217702754, 61.87729717509563, 60.61216220702637, 55.96578079337535, 54.77369004192502, 52.111949499436165, 51.651914607019506, 47.44797822256872, 44.70275009813282, 44.58846386706108, 43.344336443589924, 41.3570452980697, 39.60559479954134, 39.21952088403891, 38.949936232060146, 38.81558554145268, 38.22424252430385, 38.13099782383256, 37.038717118274235, 36.37769059807277, 34.27832681556957, 34.28091189785167, 33.1927777304548, 59.987637429441214, 31.33965246609653, 30.788020536986213, 29.832282957771497, 62.41474487112395, 83.52473663564686, 70.5305304121307, 88.13895561611379, 108.71912423144417, 41.097169938767614, 206.11122443365957, 102.77821307248628, 371.0678631674412, 76.63684879013803, 247.95507025694545, 131.5392770086313, 197.96009562822175, 111.07054183802687, 128.2692050451201, 123.12195876017697, 72.8599673693029, 66.04490752485344, 63.837710330360764, 58.718736793674445, 51.719102779530395, 44.76926123444248, 43.23803127873856, 42.71383519141571, 41.59555721596555, 35.697973799874475, 31.134358710883824, 31.059821273916842, 30.906364569626007, 28.698259035904652, 27.289588104004917, 26.912368459999602, 24.32486502797797, 23.595257562068696, 22.911622698056092, 22.82142286782089, 22.66997705564638, 22.546035459936586, 21.884257973393186, 21.418162120997614, 20.653054418105658, 20.684160537797172, 20.545199735530016, 20.27519228941707, 75.77007537638964, 39.609404092896845, 110.91756221516381, 181.85452357663652, 40.15520787516241, 146.1358578038085, 176.33972268923972, 49.480596790830205, 73.72916909096072, 71.10714434677448, 51.00757940324775, 26.912000688050703, 24.74257457252237, 21.236374767677585, 20.767079139701174, 20.110573668482996, 19.931939566393172, 19.92800825142191, 28.60761214540339, 28.60761214540339, 28.60761214540339, 18.998830203264156, 27.46731626433686, 18.018244470827874, 17.835773823143217, 16.1516166359379, 15.80202010293595, 14.831213565291774, 14.588366510353824, 14.53651868293439, 13.580761411137482, 13.462377052053776, 11.971603766866163, 11.351329572186938, 11.197745682731528, 10.656581200799602, 10.602419922778752, 10.542475253080685, 18.52326990935266, 66.53667210671632, 47.08465033397909, 43.36664395731617, 34.67224738982677, 30.42970035798126, 24.719830287268177, 24.049694870345864, 21.361807315398472, 21.34343849652521, 19.819067519260194, 19.28767257393574, 18.981806781456267, 18.9797413786292, 17.139017053668226, 16.72715223653043, 15.705267097950697, 14.372155833700003, 13.156356022929717, 12.813120449351763, 12.715653832049881, 12.621758339505892, 12.251100209164466, 12.23503440798102, 12.011628816063208, 11.97842844950097, 11.096695006547838, 9.264441582544032, 9.162187961241207, 9.062215241660107, 8.961393153715877, 33.23319019588147, 41.89217698226208, 24.46121949067117, 21.416401461591864, 21.356079520848365, 20.449883230547343, 20.404399481929755, 18.26182452869038, 17.580317648746508, 16.684499318005553, 15.532288106374025, 12.680100232169309, 11.324446538741494, 11.13470921733011, 10.71619986995652, 10.63096778299827, 10.21825915119361, 9.654508757939794, 9.26856197331628, 9.168639237599132, 8.700601607706506, 8.383059391902762, 8.264473884649554, 8.22090721363785, 8.090014594494285, 7.747923967933299, 7.726035016344075, 7.702792729376597, 7.481935482885824, 7.330633921896921, 6.716122459343088, 44.34138325761657, 29.118005309919198, 27.363396263841153, 25.74584783992716, 24.63561093749166, 16.140889090086816, 15.79682955053139, 15.341579118823503, 14.44861131956418, 14.385378216438705, 14.070397966746468, 14.062637859081343, 13.512028988991245, 13.075946660174798, 11.053608069078804, 10.41364784748947, 10.157338562644235, 8.980313616224155, 8.566167566811204, 8.54943872461547, 6.273426866548797, 6.221272011414699, 6.047817058757575, 5.4167731720961925, 5.365363936258649, 5.037876285704739, 4.88894312903764, 4.736975301228554, 4.436497125346302, 4.19412785845923, 19.441239316168556, 26.468372419031276, 15.331745657698324, 10.335636965015233, 10.126563049744279, 9.976699288933807, 9.501303015228963, 7.594503832430565, 7.380731037841336, 6.615669778577323, 6.40459314089261, 5.874984793125507, 5.706232694895144, 5.237987251348389, 4.96230622459992, 4.550565274432219, 3.852093241910842, 3.724236564035829, 3.67468614169861, 3.5012309854599453, 3.4597737248640588, 3.3821416193324927, 3.301666675094946, 3.263191289023419, 3.2400740701441735, 3.109387745780237, 3.0024867059587756, 2.9547522911122988, 2.8220506974777964, 2.7169816902197157, 2.69876360635179, 2.599239526275424, 7.842178451086644, 17.119178362504794, 15.557084766294945, 9.503392737297858, 6.814829943675124, 6.323920733463461, 6.01980703933973, 5.756543971556149, 5.619406717074699, 5.298605823332433, 4.820515501161352, 4.152915456247625, 4.01271179163736, 3.842065692540864, 3.754192431851301, 3.664193085997261, 3.555601467347349, 2.9071513133277174, 2.7763562712306715, 2.6783452056804293, 2.571485403448882, 2.5613788730955065, 2.2785332067383663, 2.08748264524771, 2.024473505750139, 1.9980007081327893, 1.9675437589365654, 1.9568933143920617, 1.9599087875810703, 1.8238685316445857, 1.6285867430935526], \"Category\": [\"Default\", \"Default\", \"Default\", \"Default\", \"Default\", \"Default\", \"Default\", \"Default\", \"Default\", \"Default\", \"Default\", \"Default\", \"Default\", \"Default\", \"Default\", \"Default\", \"Default\", \"Default\", \"Default\", \"Default\", \"Default\", \"Default\", \"Default\", \"Default\", \"Default\", \"Default\", \"Default\", \"Default\", \"Default\", \"Default\", \"Topic1\", \"Topic1\", \"Topic1\", \"Topic1\", \"Topic1\", \"Topic1\", \"Topic1\", \"Topic1\", \"Topic1\", \"Topic1\", \"Topic1\", \"Topic1\", \"Topic1\", \"Topic1\", \"Topic1\", \"Topic1\", \"Topic1\", \"Topic1\", \"Topic1\", \"Topic1\", \"Topic1\", \"Topic1\", \"Topic1\", \"Topic1\", \"Topic1\", \"Topic1\", \"Topic1\", \"Topic1\", \"Topic1\", \"Topic1\", \"Topic1\", \"Topic1\", \"Topic1\", \"Topic1\", \"Topic1\", \"Topic1\", \"Topic1\", \"Topic1\", \"Topic1\", \"Topic1\", \"Topic1\", \"Topic1\", \"Topic1\", \"Topic1\", \"Topic1\", \"Topic1\", \"Topic1\", \"Topic1\", \"Topic1\", \"Topic1\", \"Topic1\", \"Topic2\", \"Topic2\", \"Topic2\", \"Topic2\", \"Topic2\", \"Topic2\", \"Topic2\", \"Topic2\", \"Topic2\", \"Topic2\", \"Topic2\", \"Topic2\", \"Topic2\", \"Topic2\", \"Topic2\", \"Topic2\", \"Topic2\", \"Topic2\", \"Topic2\", \"Topic2\", \"Topic2\", \"Topic2\", \"Topic2\", \"Topic2\", \"Topic2\", \"Topic2\", \"Topic2\", \"Topic2\", \"Topic2\", \"Topic2\", \"Topic2\", \"Topic2\", \"Topic2\", \"Topic2\", \"Topic2\", \"Topic2\", \"Topic2\", \"Topic2\", \"Topic2\", \"Topic2\", \"Topic2\", \"Topic2\", \"Topic2\", \"Topic2\", \"Topic2\", \"Topic2\", \"Topic2\", \"Topic3\", \"Topic3\", \"Topic3\", \"Topic3\", \"Topic3\", \"Topic3\", \"Topic3\", \"Topic3\", \"Topic3\", \"Topic3\", \"Topic3\", \"Topic3\", \"Topic3\", \"Topic3\", \"Topic3\", \"Topic3\", \"Topic3\", \"Topic3\", \"Topic3\", \"Topic3\", \"Topic3\", \"Topic3\", \"Topic3\", \"Topic3\", \"Topic3\", \"Topic3\", \"Topic3\", \"Topic3\", \"Topic3\", \"Topic3\", \"Topic3\", \"Topic3\", \"Topic3\", \"Topic3\", \"Topic3\", \"Topic3\", \"Topic3\", \"Topic3\", \"Topic3\", \"Topic3\", \"Topic3\", \"Topic3\", \"Topic3\", \"Topic3\", \"Topic4\", \"Topic4\", \"Topic4\", \"Topic4\", \"Topic4\", \"Topic4\", \"Topic4\", \"Topic4\", \"Topic4\", \"Topic4\", \"Topic4\", \"Topic4\", \"Topic4\", \"Topic4\", \"Topic4\", \"Topic4\", \"Topic4\", \"Topic4\", \"Topic4\", \"Topic4\", \"Topic4\", \"Topic4\", \"Topic4\", \"Topic4\", \"Topic4\", \"Topic4\", \"Topic4\", \"Topic4\", \"Topic4\", \"Topic4\", \"Topic4\", \"Topic4\", \"Topic4\", \"Topic4\", \"Topic4\", \"Topic4\", \"Topic4\", \"Topic4\", \"Topic5\", \"Topic5\", \"Topic5\", \"Topic5\", \"Topic5\", \"Topic5\", \"Topic5\", \"Topic5\", \"Topic5\", \"Topic5\", \"Topic5\", \"Topic5\", \"Topic5\", \"Topic5\", \"Topic5\", \"Topic5\", \"Topic5\", \"Topic5\", \"Topic5\", \"Topic5\", \"Topic5\", \"Topic5\", \"Topic5\", \"Topic5\", \"Topic5\", \"Topic5\", \"Topic5\", \"Topic5\", \"Topic5\", \"Topic5\", \"Topic5\", \"Topic6\", \"Topic6\", \"Topic6\", \"Topic6\", \"Topic6\", \"Topic6\", \"Topic6\", \"Topic6\", \"Topic6\", \"Topic6\", \"Topic6\", \"Topic6\", \"Topic6\", \"Topic6\", \"Topic6\", \"Topic6\", \"Topic6\", \"Topic6\", \"Topic6\", \"Topic6\", \"Topic6\", \"Topic6\", \"Topic6\", \"Topic6\", \"Topic6\", \"Topic6\", \"Topic6\", \"Topic6\", \"Topic6\", \"Topic6\", \"Topic6\", \"Topic7\", \"Topic7\", \"Topic7\", \"Topic7\", \"Topic7\", \"Topic7\", \"Topic7\", \"Topic7\", \"Topic7\", \"Topic7\", \"Topic7\", \"Topic7\", \"Topic7\", \"Topic7\", \"Topic7\", \"Topic7\", \"Topic7\", \"Topic7\", \"Topic7\", \"Topic7\", \"Topic7\", \"Topic7\", \"Topic7\", \"Topic7\", \"Topic7\", \"Topic7\", \"Topic7\", \"Topic7\", \"Topic7\", \"Topic7\", \"Topic8\", \"Topic8\", \"Topic8\", \"Topic8\", \"Topic8\", \"Topic8\", \"Topic8\", \"Topic8\", \"Topic8\", \"Topic8\", \"Topic8\", \"Topic8\", \"Topic8\", \"Topic8\", \"Topic8\", \"Topic8\", \"Topic8\", \"Topic8\", \"Topic8\", \"Topic8\", \"Topic8\", \"Topic8\", \"Topic8\", \"Topic8\", \"Topic8\", \"Topic8\", \"Topic8\", \"Topic8\", \"Topic8\", \"Topic8\", \"Topic8\", \"Topic8\", \"Topic9\", \"Topic9\", \"Topic9\", \"Topic9\", \"Topic9\", \"Topic9\", \"Topic9\", \"Topic9\", \"Topic9\", \"Topic9\", \"Topic9\", \"Topic9\", \"Topic9\", \"Topic9\", \"Topic9\", \"Topic9\", \"Topic9\", \"Topic9\", \"Topic9\", \"Topic9\", \"Topic9\", \"Topic9\", \"Topic9\", \"Topic9\", \"Topic9\", \"Topic9\", \"Topic9\", \"Topic9\", \"Topic9\", \"Topic9\", \"Topic9\", \"Topic10\", \"Topic10\", \"Topic10\", \"Topic10\", \"Topic10\", \"Topic10\", \"Topic10\", \"Topic10\", \"Topic10\", \"Topic10\", \"Topic10\", \"Topic10\", \"Topic10\", \"Topic10\", \"Topic10\", \"Topic10\", \"Topic10\", \"Topic10\", \"Topic10\", \"Topic10\", \"Topic10\", \"Topic10\", \"Topic10\", \"Topic10\", \"Topic10\", \"Topic10\", \"Topic10\", \"Topic10\", \"Topic10\", \"Topic10\"], \"logprob\": [30.0, 29.0, 28.0, 27.0, 26.0, 25.0, 24.0, 23.0, 22.0, 21.0, 20.0, 19.0, 18.0, 17.0, 16.0, 15.0, 14.0, 13.0, 12.0, 11.0, 10.0, 9.0, 8.0, 7.0, 6.0, 5.0, 4.0, 3.0, 2.0, 1.0, -3.9116, -4.6872, -4.6385, -4.7966, -4.8488, -4.4268, -4.2492, -4.9626, -4.9674, -4.7292, -5.2354, -5.2603, -5.4113, -5.4158, -5.4335, -5.4351, -5.4551, -5.4658, -5.4892, -4.2444, -5.5588, -5.5706, -5.6165, -5.6338, -5.6502, -5.653, -5.6548, -5.696, -5.6987, -5.7055, -4.4051, -4.8594, -4.9047, -5.2834, -4.7433, -5.5614, -5.1349, -3.9366, -4.1048, -4.1163, -4.9832, -5.2339, -5.2533, -4.4325, -4.8222, -5.1563, -5.1564, -4.8807, -4.8932, -5.0921, -5.0097, -3.8529, -4.0695, -4.1783, -4.321, -4.6237, -4.7306, -4.7539, -4.838, -4.9023, -4.9371, -4.948, -5.0023, -5.057, -5.1283, -5.1597, -5.1648, -5.2026, -5.213, -5.2651, -5.2748, -5.2895, -5.0989, -5.3488, -5.3599, -5.3931, -5.4083, -5.4254, -5.4699, -5.479, -5.5071, -3.6178, -4.1969, -3.4558, -4.5844, -3.6843, -5.1591, -5.0535, -3.793, -3.6457, -4.7058, -4.8361, -4.9637, -4.7147, -4.9423, -5.0424, -5.0656, -5.0486, -3.6548, -4.2614, -4.3392, -4.4187, -4.4513, -4.4722, -4.5529, -4.5747, -4.6251, -4.6341, -4.7202, -4.7807, -4.7833, -4.8121, -4.8598, -4.9038, -4.9138, -4.9208, -4.9243, -4.9399, -4.9424, -4.972, -4.9904, -5.051, -5.051, -5.0839, -4.4925, -5.1426, -5.1607, -5.193, -4.4627, -4.192, -4.3721, -4.2232, -4.0621, -4.9063, -3.7941, -4.2749, -3.63, -4.6685, -4.3021, -4.597, -4.676, -4.8974, -3.3215, -3.3627, -3.8912, -3.9904, -4.0248, -4.1093, -4.2379, -4.3843, -4.4197, -4.4321, -4.4591, -4.6148, -4.7545, -4.757, -4.762, -4.8379, -4.8895, -4.9039, -5.0078, -5.0391, -5.0695, -5.0735, -5.0804, -5.0861, -5.1168, -5.139, -5.1767, -5.1754, -5.1824, -5.1958, -3.8906, -4.5479, -3.6984, -3.3086, -4.6278, -3.7467, -4.1957, -4.9052, -3.0296, -3.0662, -3.4025, -4.0548, -4.1412, -4.299, -4.3221, -4.3555, -4.3647, -4.3649, -4.0048, -4.0048, -4.0048, -4.4145, -4.0464, -4.4696, -4.4802, -4.584, -4.6067, -4.6732, -4.6906, -4.6943, -4.7661, -4.7753, -4.8997, -4.9564, -4.971, -5.024, -5.0295, -5.0355, -4.4972, -3.0453, -3.3956, -3.4792, -3.7071, -3.8406, -4.054, -4.0823, -4.2047, -4.2056, -4.2823, -4.3106, -4.3272, -4.3273, -4.4337, -4.4589, -4.5249, -4.618, -4.7112, -4.7392, -4.7473, -4.7552, -4.7868, -4.7882, -4.8078, -4.8107, -4.8922, -5.0865, -5.0985, -5.1104, -5.1225, -3.816, -3.1227, -3.6733, -3.8106, -3.8135, -3.8584, -3.8607, -3.976, -4.0156, -4.0703, -4.1455, -4.3591, -4.4794, -4.4975, -4.5385, -4.5471, -4.5896, -4.6508, -4.695, -4.7067, -4.7637, -4.8043, -4.8199, -4.8257, -4.8434, -4.8909, -4.894, -4.8974, -4.9295, -4.9521, -5.0498, -2.9842, -3.4135, -3.4773, -3.5399, -3.5853, -4.0242, -4.0467, -4.0774, -4.1404, -4.145, -4.1684, -4.1689, -4.2111, -4.2458, -4.4246, -4.4886, -4.5153, -4.6486, -4.7, -4.7022, -5.0458, -5.0553, -5.0873, -5.2135, -5.2245, -5.2976, -5.3328, -5.3699, -5.4477, -5.5152, -4.5779, -5.2676, -3.4677, -3.8867, -3.9087, -3.9248, -3.9777, -4.2231, -4.2547, -4.3771, -4.4138, -4.5119, -4.5452, -4.6443, -4.7075, -4.8101, -5.0125, -5.0544, -5.0713, -5.1321, -5.1472, -5.1763, -5.207, -5.2222, -5.2315, -5.2851, -5.3312, -5.3525, -5.4143, -5.466, -5.4753, -5.5275, -4.8467, -3.114, -3.2143, -3.7398, -4.1067, -4.191, -4.2471, -4.2983, -4.3261, -4.3943, -4.5052, -4.6842, -4.7263, -4.7799, -4.8087, -4.8392, -4.8771, -5.1399, -5.2027, -5.2531, -5.3086, -5.3141, -5.4837, -5.6171, -5.6652, -5.6864, -5.7128, -5.7194, -5.7181, -5.8368, -6.0364], \"loglift\": [30.0, 29.0, 28.0, 27.0, 26.0, 25.0, 24.0, 23.0, 22.0, 21.0, 20.0, 19.0, 18.0, 17.0, 16.0, 15.0, 14.0, 13.0, 12.0, 11.0, 10.0, 9.0, 8.0, 7.0, 6.0, 5.0, 4.0, 3.0, 2.0, 1.0, 0.7065, 0.7058, 0.7057, 0.7056, 0.7054, 0.7053, 0.7052, 0.7051, 0.705, 0.7046, 0.7041, 0.7039, 0.7033, 0.7032, 0.7031, 0.7031, 0.703, 0.703, 0.7029, 0.7027, 0.7025, 0.7024, 0.7021, 0.702, 0.7019, 0.7019, 0.7019, 0.7016, 0.7016, 0.7016, 0.7, 0.7008, 0.6974, 0.6984, 0.6755, 0.6998, 0.679, 0.6005, 0.6043, 0.5899, 0.6376, 0.665, 0.6654, 0.4996, 0.5549, 0.5565, 0.5434, 0.236, 0.1935, 0.3695, -0.4676, 1.2843, 1.2839, 1.2836, 1.2832, 1.2822, 1.2817, 1.2816, 1.2812, 1.2809, 1.2807, 1.2806, 1.2803, 1.28, 1.2795, 1.2793, 1.2793, 1.279, 1.2789, 1.2786, 1.2785, 1.2784, 1.2781, 1.2779, 1.2778, 1.2775, 1.2774, 1.2772, 1.2768, 1.2767, 1.2765, 1.2669, 1.2701, 1.2467, 1.255, 1.2057, 1.2581, 1.2268, 1.0015, 0.8964, 1.1007, 1.0257, 0.9382, 0.372, 0.6383, 0.9077, 0.6732, 0.4639, 2.4627, 2.4586, 2.4578, 2.457, 2.4566, 2.4564, 2.4555, 2.4552, 2.4545, 2.4544, 2.4532, 2.4523, 2.4523, 2.4518, 2.451, 2.4503, 2.4501, 2.45, 2.4499, 2.4496, 2.4496, 2.4491, 2.4487, 2.4475, 2.4475, 2.4469, 2.4464, 2.4456, 2.4452, 2.4445, 2.4366, 2.416, 2.4049, 2.3309, 2.2822, 2.4108, 1.9105, 2.1256, 1.4866, 2.0255, 1.2177, 1.5567, 1.069, 1.4255, 2.8575, 2.8572, 2.8533, 2.8523, 2.8519, 2.851, 2.8493, 2.8472, 2.8466, 2.8464, 2.8459, 2.8432, 2.8402, 2.8402, 2.8401, 2.8383, 2.837, 2.8366, 2.8338, 2.8329, 2.8319, 2.8318, 2.8316, 2.8315, 2.8305, 2.8298, 2.8285, 2.8283, 2.8281, 2.8279, 2.8147, 2.8061, 2.6259, 2.5212, 2.7125, 2.3018, 1.6649, 2.2263, 3.703, 3.7027, 3.6986, 3.6857, 3.6833, 3.6784, 3.6776, 3.6764, 3.6761, 3.676, 3.6746, 3.6746, 3.6746, 3.6742, 3.6737, 3.672, 3.6716, 3.6671, 3.6662, 3.6631, 3.6622, 3.6621, 3.6584, 3.6579, 3.6508, 3.6473, 3.6464, 3.6429, 3.6425, 3.6421, 3.6168, 3.79, 3.7855, 3.7842, 3.78, 3.7771, 3.7715, 3.7706, 3.7668, 3.7667, 3.7641, 3.763, 3.7624, 3.7624, 3.758, 3.7571, 3.7542, 3.7498, 3.7449, 3.7434, 3.7429, 3.7425, 3.7407, 3.7406, 3.7394, 3.7393, 3.7342, 3.7204, 3.7195, 3.7186, 3.7176, 3.7135, 4.1752, 4.1627, 4.1583, 4.1582, 4.1567, 4.1566, 4.1523, 4.1507, 4.1483, 4.1447, 4.134, 4.1267, 4.1255, 4.1228, 4.1222, 4.1193, 4.1148, 4.1114, 4.1105, 4.1059, 4.1025, 4.1012, 4.1006, 4.0991, 4.0947, 4.0945, 4.0941, 4.0911, 4.0889, 4.0788, 4.2569, 4.2482, 4.2466, 4.2449, 4.2436, 4.2276, 4.2265, 4.2251, 4.222, 4.2218, 4.2206, 4.2206, 4.2184, 4.2165, 4.2057, 4.2014, 4.1995, 4.1894, 4.1852, 4.185, 4.1509, 4.1498, 4.1461, 4.1301, 4.1286, 4.1185, 4.1133, 4.1078, 4.0955, 4.0842, 3.4877, 2.4895, 4.8355, 4.8108, 4.8092, 4.808, 4.804, 4.7826, 4.7795, 4.7665, 4.7623, 4.7505, 4.7463, 4.7328, 4.7237, 4.7077, 4.672, 4.6638, 4.6603, 4.6478, 4.6446, 4.6383, 4.6316, 4.6282, 4.626, 4.6136, 4.6024, 4.5971, 4.5813, 4.5675, 4.5649, 4.5504, 4.1268, 5.0788, 5.0743, 5.0416, 5.0073, 4.9977, 4.9909, 4.9844, 4.9807, 4.9713, 4.955, 4.925, 4.9173, 4.9071, 4.9015, 4.8953, 4.8874, 4.826, 4.8093, 4.7948, 4.78, 4.7784, 4.7258, 4.68, 4.6625, 4.6545, 4.6435, 4.6423, 4.6421, 4.5953, 4.509]}, \"token.table\": {\"Topic\": [3, 6, 3, 5, 8, 10, 7, 3, 5, 4, 1, 4, 1, 9, 2, 5, 1, 2, 8, 3, 2, 10, 1, 2, 2, 3, 6, 8, 4, 4, 4, 4, 9, 3, 4, 5, 10, 1, 8, 3, 2, 7, 9, 1, 2, 2, 6, 1, 3, 3, 7, 3, 4, 1, 3, 2, 1, 2, 4, 1, 4, 5, 6, 1, 2, 2, 3, 5, 1, 2, 7, 10, 3, 10, 10, 10, 5, 2, 4, 1, 7, 4, 3, 3, 10, 9, 8, 7, 10, 8, 9, 3, 1, 3, 6, 7, 7, 3, 2, 4, 3, 6, 10, 7, 9, 4, 8, 8, 9, 10, 2, 1, 5, 1, 2, 10, 5, 5, 5, 4, 1, 2, 10, 8, 1, 1, 2, 1, 6, 10, 3, 8, 4, 7, 9, 5, 2, 1, 3, 1, 2, 6, 7, 6, 6, 1, 2, 3, 4, 1, 9, 7, 5, 2, 1, 2, 8, 1, 2, 7, 5, 7, 4, 1, 2, 3, 2, 5, 5, 10, 1, 4, 1, 3, 2, 5, 2, 2, 10, 3, 4, 7, 9, 2, 9, 7, 5, 1, 2, 9, 3, 2, 5, 1, 2, 10, 7, 8, 6, 8, 1, 3, 1, 9, 1, 5, 1, 2, 3, 1, 8, 1, 2, 3, 4, 1, 2, 8, 1, 1, 1, 2, 3, 9, 5, 2, 10, 5, 9, 7, 1, 2, 8, 6, 7, 9, 8, 1, 10, 4, 6, 6, 3, 4, 3, 3, 5, 8, 9, 5, 9, 3, 10, 7, 9, 1, 2, 1, 2, 3, 4, 6, 2, 7, 2, 8, 7, 2, 8, 6, 2, 3, 7, 2, 4, 6, 7, 9, 10, 8, 5, 4, 5, 10, 8, 6, 8, 7, 2, 1, 1, 1, 2, 10, 3, 8, 10, 6, 1, 2, 8, 1, 2, 3, 4, 1, 3, 4, 1, 3, 5, 1, 4, 6, 10, 1, 3, 4, 8, 1, 2, 10, 9, 2, 1, 2, 10, 2, 9, 4, 6, 1, 5, 5, 3, 10, 10, 3, 9, 2, 6, 1, 3, 1, 2, 4, 7, 5, 6, 9, 4, 6, 1, 3, 1, 3, 4, 2, 5, 1, 2, 2, 1, 9, 7, 9, 8, 8, 1, 2, 9, 1, 2, 3, 1, 4, 8, 1, 2, 3, 1, 3, 1, 2, 1, 2, 2, 3, 9, 1, 3, 7, 8, 4, 7, 3, 8, 6, 9, 5, 4, 9, 7, 1, 7, 9, 6, 6, 6, 4, 8, 6, 1, 2, 3, 2, 2, 1, 2, 1, 2, 6, 2, 4, 6, 4, 1, 2, 10, 1, 4, 1, 3, 1, 3, 3], \"Freq\": [0.9859178348180574, 0.9483796244066651, 0.9719559099480325, 0.9474267524590778, 0.96210569194246, 0.8777576706300998, 0.9713498988554058, 0.9847093623361426, 0.9434881421174829, 0.9602113429472005, 0.9909460452515736, 0.004198923920557515, 0.9939713405605229, 0.8163962538072057, 0.9867429536995145, 0.9447766291111093, 0.03740372527092521, 0.9618100783952197, 0.8181727409022604, 0.9918055885243452, 0.9909247426894298, 0.8305914072203242, 0.9984599124221996, 0.9965353622303964, 0.048665151468577604, 0.9489704536372632, 0.9830628883569384, 0.9339065501117715, 0.970673853678774, 0.987759668669305, 0.986095992759275, 0.9841788327970596, 0.9086320017188679, 0.9721012649635424, 0.9669234564029334, 0.9787604731805265, 0.9470302079254077, 0.9939515487405568, 0.8444207000535939, 0.9910222872173148, 0.9952779095149176, 0.9060274753080745, 0.7410800987877615, 0.9955564014972252, 0.9914890933877617, 0.9970144734218988, 0.9482764315978911, 0.9892041915595711, 0.9789881943019594, 0.987378694246294, 0.9657302193515462, 0.9842794884746437, 0.9756689409266586, 0.16556424757139435, 0.8278212378569717, 0.996798492140624, 0.6124541785195298, 0.08506308034993469, 0.3005562172364359, 0.2859428458379059, 0.7093582137132666, 0.9383872568108113, 0.9586727519615026, 0.9603933542384074, 0.041243886378336515, 0.042534771572964425, 0.9357649746052175, 0.014178257190988143, 0.2460199889948189, 0.7517277441508354, 0.9322069331180075, 0.8187341468069793, 0.9744049626042197, 0.7476240895875231, 0.7777605882256208, 0.8804328280515097, 0.9439551212965477, 0.12451685010682507, 0.8716179507477756, 0.9902932974070272, 0.880776252278618, 0.9635656953330058, 0.9836199742093049, 0.9918803850296698, 0.6140293136001267, 0.7694558272841814, 0.9177155820425765, 0.8933726322475166, 0.8297867726047817, 0.9777350743246241, 0.643213443776579, 0.9868023292119782, 0.6225276369346036, 0.37459455209484804, 0.8731538835311381, 0.8514875327126356, 0.9669904912788715, 0.9786622931953793, 0.9942373136780617, 0.9908874195027845, 0.9756113533434172, 0.9365400136082465, 0.5482851327547705, 0.898092604379462, 0.9484155382591086, 0.9595938791039539, 0.9357339420383783, 0.793985356756423, 0.9783621731598614, 0.7467297328806811, 0.9986050837789844, 0.9958906369870741, 0.9492457231599815, 0.9940368775810821, 0.004549367860782984, 0.4790458987894175, 0.9802464767974541, 0.9787604731805265, 0.9534319617036642, 0.9757813092724497, 0.9967190859513035, 0.002291308243566215, 0.7808299597334624, 0.9016122149944523, 0.9925884872199434, 0.3100902790917848, 0.6821986140019266, 0.9896142725039568, 0.9795038645609453, 0.7808294278553712, 0.970339149553394, 0.9046819769170077, 0.9704465049081508, 0.9194766477888204, 0.8510660326901012, 0.9465795547618899, 0.9945157479588095, 0.9941973790925525, 0.9944027647689024, 0.8566317653244583, 0.13985824739991154, 0.980611369598614, 0.9543055376331031, 0.9915454846430579, 0.9741057752221579, 0.05177119121169933, 0.9405099736792045, 0.9899003403815974, 0.9747721523910966, 0.9983571001333076, 0.9259047586731587, 0.9787030169704515, 0.8930368918291637, 0.987106426384467, 0.9018047991331737, 0.09681403410177213, 0.8267445842727207, 0.8982184402575946, 0.10114392520547703, 0.8652641992467972, 0.9630916662622768, 0.9710244184492205, 0.9804762836962718, 0.9950538275740591, 0.28216096712585576, 0.71026726207543, 0.9914074743451637, 0.9286996056248937, 0.9188409685296073, 0.49395558754396474, 0.9955152810673176, 0.982817200614187, 0.422102193798778, 0.5725064237730553, 0.9975655721948962, 0.9844299140832437, 0.9961152519935675, 0.9899626362399477, 0.6879586868530306, 0.4648286700588539, 0.5254584965882697, 0.9406481332765061, 0.7361109598932427, 0.9847171775029726, 0.6661145230154635, 0.9355867898101764, 0.9787604731805265, 0.9660486662964444, 0.02916373332215681, 0.708704489890099, 0.9896175212922181, 0.9964670469883455, 0.9630627333511375, 0.015300956555501802, 0.9830864586909908, 0.7991066133284523, 0.9087613085191407, 0.9710303640196893, 0.9565286292461426, 0.9602782950271175, 0.047890004340257586, 0.9458275857200873, 0.9952994199775304, 0.8870119402605284, 0.9985550308550681, 0.953243909691333, 0.15040634334768405, 0.8326065435318224, 0.016114965358680435, 0.9962254527048543, 0.9239255371968716, 0.8884851368934633, 0.08580942972009305, 0.025027750335027136, 0.9864271428113305, 0.47571566951054667, 0.5228586637863666, 0.9564150706838132, 0.9946618846832638, 0.9986128624927142, 0.27777624538191603, 0.7033058127754895, 0.017730398641398897, 0.9217192004180873, 0.9661117470000793, 0.9943131948360184, 0.7223840773081031, 0.9699879828452845, 0.8790116741043971, 0.9833265501516442, 0.9324649656865571, 0.06692332289616439, 0.9867196213387679, 0.9437186760899332, 0.9331666188903001, 0.9472384982959221, 0.974199505784354, 0.9959701899209523, 0.934624294530626, 0.9734634005729733, 0.8827863592582778, 0.9858789158970946, 0.050493059560031604, 0.9341216018605847, 0.985821986170257, 0.9971525085088866, 0.9485438438262244, 0.8908374854021707, 0.9368276591514724, 0.9901101680657606, 0.8060768156891598, 0.9891622133824244, 0.8685767058682548, 0.9811448692961908, 0.7636521068221959, 0.5564688537523903, 0.44037103534361827, 0.6533441717167799, 0.06049483071451666, 0.28634219871537886, 0.9893883299776731, 0.971456284743347, 0.9881637097989496, 0.872539511337001, 0.995973034513858, 0.9319032332942875, 0.9679987028405053, 0.7933997477268603, 0.1511237614717829, 0.955093594171173, 0.3523109369219586, 0.6393791077472583, 0.98018077021635, 0.039593467277120015, 0.9502432146508802, 0.9121066638122024, 0.9856627398714166, 0.9193454303740236, 0.7203686431473231, 0.9495576281314888, 0.9690494783053638, 0.9866447346119159, 0.9596687874590866, 0.5110140612395444, 0.9230587733960975, 0.9919341907293534, 0.7152857760283186, 0.9463647589753352, 0.9855016021626676, 0.9976358450489071, 0.9935707503167086, 0.019788119967951552, 0.9696178784296261, 0.9436444541661279, 0.9905585392813294, 0.9293168372746263, 0.5102278260786847, 0.9850851587804075, 0.8111119735764305, 0.18597318731172302, 0.8036941626770334, 0.4333306469082979, 0.16725042512250093, 0.4029214787042068, 0.9868775003673282, 0.04538288401580186, 0.8736205173041858, 0.07942004702765325, 0.9687347391183437, 0.027059629584311278, 0.9888693446850753, 0.20736121080071496, 0.7933820239331703, 0.9507391662253746, 0.5082479083161476, 0.9896099523727695, 0.00875761019798911, 0.997901249602152, 0.9616043304471016, 0.7115375239753003, 0.28537601228955894, 0.8897736454646329, 0.805534221152966, 0.9919264950440067, 0.45682746928933404, 0.5421688646510777, 0.9487784956333478, 0.9929116409798702, 0.9675262428284469, 0.060180800826273265, 0.9027120123940989, 0.05398614849827815, 0.9177645244707286, 0.957236461671346, 0.9858747869399921, 0.9641909281421484, 0.8437391050572789, 0.9941921784304926, 0.906937649673663, 0.9914312262224875, 0.9708804518921426, 0.6392333991089972, 0.35112820514437876, 0.14370189709491485, 0.28056084670911946, 0.5679646408989492, 0.9780006944061508, 0.9656541300049802, 0.8927183377377845, 0.77879734772771, 0.9944948631633095, 0.9011692214753393, 0.7526769449527289, 0.24752463290391755, 0.016670101421750808, 0.9835359838832977, 0.9660985445649024, 0.9892338951184858, 0.9431809033063778, 0.22709250074361748, 0.7721145025282994, 0.9903484190089337, 0.9940845209495104, 0.8887516875952569, 0.38254676538051846, 0.5100623538406912, 0.9244353819155546, 0.9923010237269058, 0.9903932455376233, 0.9972278781911055, 0.8762348588540829, 0.30796938382434397, 0.6766223900771301, 0.013653815046399486, 0.995519444038245, 0.9881969838808189, 0.8860588769876597, 0.017094858207606995, 0.9808174896614513, 0.9941334998551962, 0.9937303237500916, 0.9913667599922482, 0.8608575733080149, 0.136954613935366, 0.9555799977058428, 0.036059622554937464, 0.016021855125176485, 0.9613113075105891, 0.676875691412735, 0.9921657676577744, 0.006401069468759835, 0.954896953603248, 0.9689512500791868, 0.9683797657777363, 0.9589739371281668, 0.5143705006338445, 0.46293345057046004, 0.933542451699443, 0.8671087298108999, 0.9531405908467655, 0.9804478034583316, 0.9021019617162196, 0.9805568894317452, 0.9981250437936566, 0.9034678229899045, 0.8568414973072391, 0.9769638231082637, 0.9563530898830581, 0.9157792143301704, 0.9640065007086334, 0.9732104216767608, 0.9839089424798576, 0.9922115793210733, 0.9215990970602433, 0.07518873752239748, 0.98799939622648, 0.9969506009405809, 0.027757486657034026, 0.9715120329961908, 0.5989396575506771, 0.4001649240404087, 0.9807900492843972, 0.988401558590052, 0.9856821916611576, 0.918317460956931, 0.9658780627045381, 0.9909712875177641, 0.007991703931594872, 0.5005003231127678, 0.9964181830137689, 0.9832879630635656, 0.8498481727093835, 0.14968916678403915, 0.9919202692755628, 0.9920557915556498, 0.9827433696147115], \"Term\": [\"absolutely\", \"accuse\", \"acknowledge\", \"addition\", \"additional\", \"admit\", \"afternoon\", \"ahead\", \"almond\", \"alright\", \"also\", \"also\", \"always\", \"announce\", \"arrive\", \"arrogant\", \"ask\", \"ask\", \"assemble\", \"available\", \"away\", \"b\", \"bad\", \"bar\", \"barely\", \"barely\", \"bartender\", \"bbq\", \"bean\", \"beef\", \"beer\", \"bland\", \"blow\", \"book\", \"bore\", \"bougie\", \"boyfriend\", \"bread\", \"breadstick\", \"breakfast\", \"bring\", \"broccoli\", \"brother\", \"business\", \"busy\", \"call\", \"cancel\", \"care\", \"carry\", \"cashier\", \"casually\", \"cause\", \"cent\", \"charge\", \"charge\", \"check\", \"cheese\", \"cheese\", \"cheese\", \"chicken\", \"chicken\", \"chocolate\", \"clearly\", \"close\", \"close\", \"coffee\", \"coffee\", \"coffee\", \"come\", \"come\", \"complaint\", \"confuse\", \"confused\", \"consistency\", \"consistent\", \"consistently\", \"contact\", \"container\", \"container\", \"cook\", \"cooking\", \"correct\", \"counter\", \"coupon\", \"cousin\", \"crave\", \"crazy\", \"crouton\", \"crowd\", \"crust\", \"cuisine\", \"cup\", \"customer\", \"customer\", \"cute\", \"dark\", \"daughter\", \"deal\", \"deliver\", \"delivery\", \"deserve\", \"difficult\", \"dim\", \"dip\", \"dog\", \"dominos\", \"dough\", \"doughy\", \"downtown\", \"dressing\", \"drink\", \"drive\", \"early\", \"eat\", \"eat\", \"effect\", \"egg\", \"emilio\", \"encounter\", \"epic\", \"ever\", \"ever\", \"excellent\", \"excessive\", \"expect\", \"experience\", \"experience\", \"extra\", \"eye\", \"factor\", \"fake\", \"fall\", \"famous\", \"fat\", \"fee\", \"fill\", \"finally\", \"find\", \"fire\", \"first\", \"first\", \"fix\", \"follow\", \"forever\", \"forward\", \"friend\", \"friend\", \"front\", \"frozen\", \"fry\", \"garden\", \"garlic\", \"generally\", \"girl\", \"give\", \"give\", \"gluten_free\", \"go\", \"go\", \"gravy\", \"greasy\", \"greek\", \"green\", \"guess\", \"half\", \"half\", \"hand\", \"harass\", \"health\", \"heater\", \"home\", \"hope\", \"horrible\", \"horrible\", \"hot\", \"hotel\", \"hour\", \"however\", \"human\", \"hungry\", \"hungry\", \"hurry\", \"hype\", \"ice\", \"inconvenience\", \"inquire\", \"kardashian\", \"know\", \"know\", \"label\", \"lack\", \"later\", \"latte\", \"leave\", \"leave\", \"leg\", \"lemon\", \"lettuce\", \"light\", \"limited\", \"line\", \"line\", \"literally\", \"locate\", \"location\", \"lol\", \"long\", \"long\", \"long\", \"look\", \"machine\", \"make\", \"make\", \"make\", \"manage\", \"manager\", \"manager\", \"mayo\", \"mcdonald\", \"meat\", \"menu\", \"menu\", \"menu\", \"mile\", \"milk\", \"min\", \"miserable\", \"month\", \"month_ago\", \"movie\", \"much\", \"much\", \"mushroom\", \"music\", \"nachos\", \"napkin\", \"nasty\", \"need\", \"none\", \"nuff\", \"occasion\", \"one\", \"onion\", \"onion\", \"online\", \"order\", \"ordering\", \"other\", \"otherwise\", \"owner\", \"papa\", \"park\", \"past\", \"pasta\", \"patio\", \"pay\", \"pay\", \"people\", \"people\", \"people\", \"pepper\", \"personal\", \"phone\", \"photo\", \"pick\", \"pico\", \"pie\", \"pizza\", \"pizza\", \"pleasant\", \"poor\", \"poor\", \"pork\", \"portion\", \"portion\", \"possible\", \"potato\", \"potential\", \"prefer\", \"prepare\", \"previous\", \"pricey\", \"product\", \"professional\", \"promotion\", \"purchase\", \"quizno\", \"rating\", \"ready\", \"really\", \"reason\", \"receive\", \"receive\", \"redeem\", \"regular\", \"replace\", \"reset\", \"response\", \"restaurant\", \"restaurant\", \"result\", \"review\", \"review\", \"review\", \"rice\", \"roll\", \"roll\", \"roll\", \"rude\", \"rude\", \"sad\", \"salad\", \"salad\", \"sale\", \"sandwhich\", \"sandwich\", \"sandwich\", \"sauce\", \"save\", \"say\", \"say\", \"school\", \"screen\", \"seat\", \"see\", \"see\", \"selection\", \"server\", \"shame\", \"shoestring\", \"shoestring\", \"shop\", \"shop\", \"shot\", \"show\", \"shrimp\", \"sight\", \"simple\", \"simply\", \"sit\", \"slice\", \"slow\", \"slow\", \"small\", \"small\", \"small\", \"smell\", \"smoke\", \"smoothie\", \"sodium\", \"soup\", \"spit\", \"staff\", \"staff\", \"stand\", \"stand\", \"staple\", \"steak\", \"steak_shake\", \"still\", \"still\", \"stop\", \"store\", \"straw\", \"style\", \"style\", \"sub\", \"subway\", \"sure\", \"table\", \"taco\", \"take\", \"take\", \"take\", \"taste\", \"tasteless\", \"tasty\", \"tell\", \"tell\", \"tender\", \"terrible\", \"thank\", \"thing\", \"thing\", \"think\", \"think\", \"throw\", \"throw\", \"tight\", \"time\", \"time\", \"toilet\", \"tomato\", \"ton\", \"tongue\", \"topping\", \"topping\", \"tourist\", \"toy\", \"train\", \"trash\", \"truck\", \"truly\", \"try\", \"tuna\", \"tv\", \"type\", \"unacceptable\", \"undercooked\", \"unimpressive\", \"veggie\", \"very\", \"visit\", \"wait\", \"wait\", \"waiter\", \"waitress\", \"walk\", \"walk\", \"want\", \"want\", \"wash_hand\", \"water\", \"weak\", \"wear\", \"website\", \"well\", \"well\", \"wilt\", \"window\", \"wing\", \"work\", \"work\", \"wrong\", \"yelp\", \"yet\"]}, \"R\": 30, \"lambda.step\": 0.01, \"plot.opts\": {\"xlab\": \"PC1\", \"ylab\": \"PC2\"}, \"topic.order\": [5, 2, 1, 7, 3, 8, 9, 4, 6, 10]};\n",
       "\n",
       "function LDAvis_load_lib(url, callback){\n",
       "  var s = document.createElement('script');\n",
       "  s.src = url;\n",
       "  s.async = true;\n",
       "  s.onreadystatechange = s.onload = callback;\n",
       "  s.onerror = function(){console.warn(\"failed to load library \" + url);};\n",
       "  document.getElementsByTagName(\"head\")[0].appendChild(s);\n",
       "}\n",
       "\n",
       "if(typeof(LDAvis) !== \"undefined\"){\n",
       "   // already loaded: just create the visualization\n",
       "   !function(LDAvis){\n",
       "       new LDAvis(\"#\" + \"ldavis_el9711399400476114881043756993\", ldavis_el9711399400476114881043756993_data);\n",
       "   }(LDAvis);\n",
       "}else if(typeof define === \"function\" && define.amd){\n",
       "   // require.js is available: use it to load d3/LDAvis\n",
       "   require.config({paths: {d3: \"https://d3js.org/d3.v5\"}});\n",
       "   require([\"d3\"], function(d3){\n",
       "      window.d3 = d3;\n",
       "      LDAvis_load_lib(\"https://cdn.jsdelivr.net/gh/bmabey/pyLDAvis@3.3.1/pyLDAvis/js/ldavis.v3.0.0.js\", function(){\n",
       "        new LDAvis(\"#\" + \"ldavis_el9711399400476114881043756993\", ldavis_el9711399400476114881043756993_data);\n",
       "      });\n",
       "    });\n",
       "}else{\n",
       "    // require.js not available: dynamically load d3 & LDAvis\n",
       "    LDAvis_load_lib(\"https://d3js.org/d3.v5.js\", function(){\n",
       "         LDAvis_load_lib(\"https://cdn.jsdelivr.net/gh/bmabey/pyLDAvis@3.3.1/pyLDAvis/js/ldavis.v3.0.0.js\", function(){\n",
       "                 new LDAvis(\"#\" + \"ldavis_el9711399400476114881043756993\", ldavis_el9711399400476114881043756993_data);\n",
       "            })\n",
       "         });\n",
       "}\n",
       "</script>"
      ],
      "text/plain": [
       "PreparedData(topic_coordinates=              x         y  topics  cluster       Freq\n",
       "topic                                                \n",
       "4     -0.323532  0.012252       1        1  49.250280\n",
       "1     -0.321533  0.130891       2        1  27.631395\n",
       "0     -0.068899 -0.365738       3        1   8.476609\n",
       "6      0.052881  0.067146       4        1   5.710200\n",
       "2      0.116201  0.033245       5        1   2.440806\n",
       "7      0.117017  0.032104       6        1   2.235178\n",
       "8      0.113961  0.026459       7        1   1.510621\n",
       "3      0.109124  0.021936       8        1   1.393465\n",
       "5      0.103811  0.021265       9        1   0.755933\n",
       "9      0.100969  0.020439      10        1   0.595513, topic_info=              Term        Freq       Total Category  logprob  loglift\n",
       "25             ask  561.000000  561.000000  Default  30.0000  30.0000\n",
       "3         customer  371.000000  371.000000  Default  29.0000  29.0000\n",
       "20            tell  467.000000  467.000000  Default  28.0000  28.0000\n",
       "234        chicken  181.000000  181.000000  Default  27.0000  27.0000\n",
       "148           wait  465.000000  465.000000  Default  26.0000  26.0000\n",
       "...            ...         ...         ...      ...      ...      ...\n",
       "1425     sandwhich    1.217488    1.967544  Topic10  -5.7128   4.6435\n",
       "1424  professional    1.209434    1.956893  Topic10  -5.7194   4.6423\n",
       "4932         reset    1.211011    1.959909  Topic10  -5.7181   4.6421\n",
       "4881           dim    1.075478    1.823869  Topic10  -5.8368   4.5953\n",
       "3476        cousin    0.880915    1.628587  Topic10  -6.0364   4.5090\n",
       "\n",
       "[395 rows x 6 columns], token_table=      Topic      Freq         Term\n",
       "term                              \n",
       "407       3  0.985918   absolutely\n",
       "2784      6  0.948380       accuse\n",
       "461       3  0.971956  acknowledge\n",
       "334       5  0.947427     addition\n",
       "1210      8  0.962106   additional\n",
       "...     ...       ...          ...\n",
       "538       1  0.849848         work\n",
       "538       3  0.149689         work\n",
       "1146      1  0.991920        wrong\n",
       "1421      3  0.992056         yelp\n",
       "565       3  0.982743          yet\n",
       "\n",
       "[436 rows x 3 columns], R=30, lambda_step=0.01, plot_opts={'xlab': 'PC1', 'ylab': 'PC2'}, topic_order=[5, 2, 1, 7, 3, 8, 9, 4, 6, 10])"
      ]
     },
     "execution_count": 22,
     "metadata": {},
     "output_type": "execute_result"
    }
   ],
   "source": [
    "# Visualize the topics\n",
    "pyLDAvis.enable_notebook()\n",
    "vis = pyLDAvis.gensim_models.prepare(optimal_model, corpus, id2word)\n",
    "vis"
   ]
  },
  {
   "cell_type": "markdown",
   "id": "298ca02d",
   "metadata": {},
   "source": [
    "Que voyons-nous ici ?\n",
    "\n",
    "**Dans le panneau de gauche**, intitulé Intertopic Distance Map, les cercles représentent différents sujets et la distance qui les sépare. Les sujets similaires apparaissent plus proches et les sujets dissemblables plus éloignés. La taille relative du cercle d'un sujet dans le graphique correspond à la fréquence relative du sujet dans le corpus.\n",
    "\n",
    "**Le panneau de droite**, comprend le diagramme à barres des 30 premiers termes. Lorsqu'aucun sujet n'est sélectionné dans le graphique de gauche, le diagramme à barres affiche les 30 termes les plus \"saillants\" du corpus."
   ]
  },
  {
   "cell_type": "code",
   "execution_count": 23,
   "id": "f74ae5d2",
   "metadata": {},
   "outputs": [
    {
     "name": "stdout",
     "output_type": "stream",
     "text": [
      "{0: 'customer  order  horrible  charge  line  roll  breakfast  half  people  counter', 1: 'ask  tell  take  wait  come  drink  call  table  leave  hour', 2: 'owner  hotel  egg  bougie  kardashian  emilio  fill  milk  month  sad', 3: 'subway  save  mushroom  lettuce  nasty  replace  prepare  crust  tomato  veggie', 4: 'bad  go  give  make  eat  ever  well  look  restaurant  try', 5: 'downtown  shame  straw  truck  napkin  mile  dog  simply  otherwise  fee', 6: 'chicken  sauce  delivery  salad  small  portion  tasteless  bland  rice  beef', 7: 'purchase  type  forever  fix  shoestring  one  slice  unacceptable  bartender  very', 8: 'garlic  pasta  truly  movie  smell  pork  potato  daughter  tongue  casually', 9: 'none  shrimp  boyfriend  consistently  selection  b  past  school  redeem  crowd'}\n"
     ]
    }
   ],
   "source": [
    "# Récupère les topic avec leur liste de mots\n",
    "top_words = {}\n",
    "for topic, word in optimal_model.show_topics():\n",
    "    top_words[topic] = re.sub('[^A-Za-z ]+', '', word)\n",
    "print(top_words)"
   ]
  },
  {
   "cell_type": "markdown",
   "id": "d45f82da",
   "metadata": {},
   "source": [
    "D'après notre LDA, nous pouvons attribuer 5 topiques, les topic de 5 à 10 peuvent être fusionnés en 1 seul topic vu leur ressemblance sur le graphique :\n",
    "- Topic 1 : **Ambiance** (bad  go  give  make  eat  ever  well  look  restaurant  try)\n",
    "- Topic 2 : **Attente** (ask  tell  take  wait  come  drink  call  table  leave  hour)\n",
    "- Topic 3 : **Service** (customer  order  horrible  charge  line  roll  breakfast  half  people  counter)\n",
    "- Topic 4 : **Livraison** (chicken  sauce  delivery  salad  small  portion  tasteless  bland  rice  beef)\n",
    "- Topic 5 : **Nourriture** (Les 5 derniers sujets qui ressortent contiennent principalement des noms de nourriture)"
   ]
  },
  {
   "cell_type": "markdown",
   "id": "a42c718b",
   "metadata": {},
   "source": [
    "Passons maintenant au NMF pour voir quels seront les topic qui en ressortirons."
   ]
  },
  {
   "cell_type": "markdown",
   "id": "a3eb64a4",
   "metadata": {},
   "source": [
    "# NMF"
   ]
  },
  {
   "cell_type": "markdown",
   "id": "5e0cc58a",
   "metadata": {},
   "source": [
    "La méthode NMF est une méthode statistique qui nous aide à réduire la dimension des corpus d'entrée. En interne, elle utilise la méthode d'analyse factorielle pour donner comparativement moins de poids aux mots qui ont moins de cohérence."
   ]
  },
  {
   "cell_type": "code",
   "execution_count": 23,
   "id": "5039cea8",
   "metadata": {},
   "outputs": [
    {
     "data": {
      "text/html": [
       "<div>\n",
       "<style scoped>\n",
       "    .dataframe tbody tr th:only-of-type {\n",
       "        vertical-align: middle;\n",
       "    }\n",
       "\n",
       "    .dataframe tbody tr th {\n",
       "        vertical-align: top;\n",
       "    }\n",
       "\n",
       "    .dataframe thead th {\n",
       "        text-align: right;\n",
       "    }\n",
       "</style>\n",
       "<table border=\"1\" class=\"dataframe\">\n",
       "  <thead>\n",
       "    <tr style=\"text-align: right;\">\n",
       "      <th></th>\n",
       "      <th>business_id</th>\n",
       "      <th>text_processed</th>\n",
       "    </tr>\n",
       "  </thead>\n",
       "  <tbody>\n",
       "    <tr>\n",
       "      <th>0</th>\n",
       "      <td>04UD14gamNjLY0IDYVhHJg</td>\n",
       "      <td>long term frequent customer establishment go t...</td>\n",
       "    </tr>\n",
       "    <tr>\n",
       "      <th>1</th>\n",
       "      <td>jNL5KUPz2-tHUJM__ysSaw</td>\n",
       "      <td>want pay terrible impressive bring basket chip...</td>\n",
       "    </tr>\n",
       "  </tbody>\n",
       "</table>\n",
       "</div>"
      ],
      "text/plain": [
       "              business_id                                     text_processed\n",
       "0  04UD14gamNjLY0IDYVhHJg  long term frequent customer establishment go t...\n",
       "1  jNL5KUPz2-tHUJM__ysSaw  want pay terrible impressive bring basket chip..."
      ]
     },
     "execution_count": 23,
     "metadata": {},
     "output_type": "execute_result"
    }
   ],
   "source": [
    "df_NMF = df_bad_review_cleaning[[\"business_id\", \"text_processed\"]].copy()\n",
    "df_NMF.head(2)"
   ]
  },
  {
   "cell_type": "code",
   "execution_count": 24,
   "id": "0d0c234b",
   "metadata": {},
   "outputs": [],
   "source": [
    "# Récupère seulement les noms\n",
    "def extract_nouns(texts):\n",
    "    output = []\n",
    "    for doc in nlp.pipe(texts):\n",
    "        nouns = \" \".join(token.lemma_ for token in doc if token.pos_ == 'NOUN')\n",
    "        output.append(nouns)\n",
    "    return output\n",
    "\n",
    "\n",
    "df_NMF['Review_Only_Nouns'] = extract_nouns(df_NMF['text_processed'])"
   ]
  },
  {
   "cell_type": "code",
   "execution_count": 25,
   "id": "73de09f7",
   "metadata": {},
   "outputs": [
    {
     "data": {
      "text/html": [
       "<div>\n",
       "<style scoped>\n",
       "    .dataframe tbody tr th:only-of-type {\n",
       "        vertical-align: middle;\n",
       "    }\n",
       "\n",
       "    .dataframe tbody tr th {\n",
       "        vertical-align: top;\n",
       "    }\n",
       "\n",
       "    .dataframe thead th {\n",
       "        text-align: right;\n",
       "    }\n",
       "</style>\n",
       "<table border=\"1\" class=\"dataframe\">\n",
       "  <thead>\n",
       "    <tr style=\"text-align: right;\">\n",
       "      <th></th>\n",
       "      <th>business_id</th>\n",
       "      <th>text_processed</th>\n",
       "      <th>Review_Only_Nouns</th>\n",
       "    </tr>\n",
       "  </thead>\n",
       "  <tbody>\n",
       "    <tr>\n",
       "      <th>0</th>\n",
       "      <td>04UD14gamNjLY0IDYVhHJg</td>\n",
       "      <td>long term frequent customer establishment go t...</td>\n",
       "      <td>term customer establishment app dick fuck cust...</td>\n",
       "    </tr>\n",
       "    <tr>\n",
       "      <th>1</th>\n",
       "      <td>jNL5KUPz2-tHUJM__ysSaw</td>\n",
       "      <td>want pay terrible impressive bring basket chip...</td>\n",
       "      <td>bring basket chip tomato sauce pico bring bott...</td>\n",
       "    </tr>\n",
       "  </tbody>\n",
       "</table>\n",
       "</div>"
      ],
      "text/plain": [
       "              business_id                                     text_processed  \\\n",
       "0  04UD14gamNjLY0IDYVhHJg  long term frequent customer establishment go t...   \n",
       "1  jNL5KUPz2-tHUJM__ysSaw  want pay terrible impressive bring basket chip...   \n",
       "\n",
       "                                   Review_Only_Nouns  \n",
       "0  term customer establishment app dick fuck cust...  \n",
       "1  bring basket chip tomato sauce pico bring bott...  "
      ]
     },
     "execution_count": 25,
     "metadata": {},
     "output_type": "execute_result"
    }
   ],
   "source": [
    "df_NMF.head(2)"
   ]
  },
  {
   "cell_type": "code",
   "execution_count": 26,
   "id": "c282cad5",
   "metadata": {},
   "outputs": [],
   "source": [
    "vec = TfidfVectorizer(max_features=7000,\n",
    "                      stop_words=\"english\",\n",
    "                      max_df=0.95,\n",
    "                      min_df=2)\n",
    "features = vec.fit_transform(df_NMF.Review_Only_Nouns)"
   ]
  },
  {
   "cell_type": "code",
   "execution_count": 27,
   "id": "f13b37d3",
   "metadata": {},
   "outputs": [
    {
     "name": "stderr",
     "output_type": "stream",
     "text": [
      "/home/reda/anaconda3/envs/P6/lib/python3.9/site-packages/sklearn/decomposition/_nmf.py:289: FutureWarning: The 'init' value, when 'init=None' and n_components is less than n_samples and n_features, will be changed from 'nndsvd' to 'nndsvda' in 1.1 (renaming of 0.26).\n",
      "  warnings.warn(\n"
     ]
    },
    {
     "data": {
      "text/plain": [
       "NMF(n_components=5, random_state=42)"
      ]
     },
     "execution_count": 27,
     "metadata": {},
     "output_type": "execute_result"
    }
   ],
   "source": [
    "n_topics = 5\n",
    "random_state = 42\n",
    "nmf = NMF(n_components=n_topics, random_state=random_state)\n",
    "nmf.fit(features)"
   ]
  },
  {
   "cell_type": "markdown",
   "id": "9773cb46",
   "metadata": {},
   "source": [
    "Afin de visualiser l'ensemble des mots qui composent chaque sujet, nous allons créer une fonction d'aide qui imprimera les 10 premiers mots de chaque sujet ."
   ]
  },
  {
   "cell_type": "code",
   "execution_count": 28,
   "id": "ec006e64",
   "metadata": {},
   "outputs": [],
   "source": [
    "def display_top_words(feature_names, nmf, n_top_words):\n",
    "    # topic x : top_word\n",
    "    dict_nfm = {}\n",
    "    # topic x : top_10_word\n",
    "    dict_nfm_word = {}\n",
    "    for i, topic_vec in enumerate(nmf.components_):\n",
    "        # Créer les clefs de chaque dictionnaire avec le numero de topic\n",
    "        # correspondant\n",
    "        dict_nfm[\"topic \" + str(i)] = None\n",
    "        dict_nfm_word[\"topic \" + str(i)] = None\n",
    "        list_word = []\n",
    "        for fid in topic_vec.argsort()[-1:-n_top_words - 1:-1]:\n",
    "            # Place les mots de chaque topics dans une liste pour qu'elle\n",
    "            # soit ensuite attribué au topic en clef concerné\n",
    "            list_word.append(feature_names[fid])\n",
    "\n",
    "            dict_nfm[\"topic \" + str(i)] = feature_names[fid]\n",
    "            dict_nfm_word[\"topic \" + str(i)] = list_word\n",
    "    return dict_nfm, dict_nfm_word"
   ]
  },
  {
   "cell_type": "code",
   "execution_count": 29,
   "id": "bb24ac11",
   "metadata": {},
   "outputs": [
    {
     "name": "stdout",
     "output_type": "stream",
     "text": [
      "{'topic 0': 'business', 'topic 1': 'attitude', 'topic 2': 'bread', 'topic 3': 'order', 'topic 4': 'waitress'}\n",
      "\n",
      "\n",
      "{'topic 0': ['restaurant', 'owner', 'review', 'way', 'quality', 'area', 'experience', 'year', 'thing', 'business'], 'topic 1': ['location', 'customer', 'employee', 'manager', 'staff', 'drive', 'order', 'time', 'work', 'attitude'], 'topic 2': ['sandwich', 'chicken', 'fry', 'taste', 'cheese', 'meat', 'rice', 'sauce', 'price', 'bread'], 'topic 3': ['delivery', 'hour', 'driver', 'store', 'time', 'tell', 'phone', 'business', 'day', 'order'], 'topic 4': ['table', 'server', 'drink', 'people', 'seat', 'bar', 'friend', 'waiter', 'hour', 'waitress']}\n"
     ]
    },
    {
     "name": "stderr",
     "output_type": "stream",
     "text": [
      "/home/reda/anaconda3/envs/P6/lib/python3.9/site-packages/sklearn/utils/deprecation.py:87: FutureWarning: Function get_feature_names is deprecated; get_feature_names is deprecated in 1.0 and will be removed in 1.2. Please use get_feature_names_out instead.\n",
      "  warnings.warn(msg, category=FutureWarning)\n"
     ]
    }
   ],
   "source": [
    "dict_topic, dict_word = display_top_words(vec.get_feature_names(), nmf, 10)\n",
    "print(dict_topic)\n",
    "print('\\n')\n",
    "print(dict_word)"
   ]
  },
  {
   "cell_type": "markdown",
   "id": "fe1d2f64",
   "metadata": {},
   "source": [
    "Sur le plan qualitatif, nous pouvons conclure que les sujets sont très différents les uns des autres."
   ]
  },
  {
   "cell_type": "markdown",
   "id": "0b98017c",
   "metadata": {},
   "source": [
    "Nous allons maintenant labéliser nos sujets."
   ]
  },
  {
   "cell_type": "code",
   "execution_count": 30,
   "id": "78da2b9d",
   "metadata": {},
   "outputs": [],
   "source": [
    "# Étiquète les sujets avec les 5 principaux termes\n",
    "topic_df = topic_table(5, vec.get_feature_names_out(), nmf)\n",
    "# Étiquète manuellement les sujets\n",
    "topic_df['Label'] = [\n",
    "    \"Ambiance\", \"Attente\", \"Nourriture\", \"Livraison\", \"Serveur\"\n",
    "]\n",
    "# Obtenir des poids pour classifier notre jeu de données\n",
    "document_weights = nmf.transform(vec.transform(df_NMF['Review_Only_Nouns']))\n",
    "# Magasin le plus représentatif du sujet\n",
    "df_NMF[\"Topic_idx\"] = document_weights.argmax(axis=1)\n",
    "# Joindre l'ensemble de données original avec des étiquettes\n",
    "df_nmf_termine = pd.merge(df_NMF,\n",
    "                          topic_df,\n",
    "                          left_on='Topic_idx',\n",
    "                          right_index=True,\n",
    "                          how='left')"
   ]
  },
  {
   "cell_type": "code",
   "execution_count": 32,
   "id": "1262bac9",
   "metadata": {},
   "outputs": [
    {
     "data": {
      "text/html": [
       "<div>\n",
       "<style scoped>\n",
       "    .dataframe tbody tr th:only-of-type {\n",
       "        vertical-align: middle;\n",
       "    }\n",
       "\n",
       "    .dataframe tbody tr th {\n",
       "        vertical-align: top;\n",
       "    }\n",
       "\n",
       "    .dataframe thead th {\n",
       "        text-align: right;\n",
       "    }\n",
       "</style>\n",
       "<table border=\"1\" class=\"dataframe\">\n",
       "  <thead>\n",
       "    <tr style=\"text-align: right;\">\n",
       "      <th></th>\n",
       "      <th>business_id</th>\n",
       "      <th>text_processed</th>\n",
       "      <th>Review_Only_Nouns</th>\n",
       "      <th>Topic_idx</th>\n",
       "      <th>Top_Topic_Terms</th>\n",
       "      <th>Label</th>\n",
       "    </tr>\n",
       "  </thead>\n",
       "  <tbody>\n",
       "    <tr>\n",
       "      <th>0</th>\n",
       "      <td>04UD14gamNjLY0IDYVhHJg</td>\n",
       "      <td>long term frequent customer establishment go t...</td>\n",
       "      <td>term customer establishment app dick fuck cust...</td>\n",
       "      <td>1</td>\n",
       "      <td>location customer employee manager staff</td>\n",
       "      <td>Attente</td>\n",
       "    </tr>\n",
       "    <tr>\n",
       "      <th>1</th>\n",
       "      <td>jNL5KUPz2-tHUJM__ysSaw</td>\n",
       "      <td>want pay terrible impressive bring basket chip...</td>\n",
       "      <td>bring basket chip tomato sauce pico bring bott...</td>\n",
       "      <td>2</td>\n",
       "      <td>sandwich chicken fry taste cheese</td>\n",
       "      <td>Nourriture</td>\n",
       "    </tr>\n",
       "    <tr>\n",
       "      <th>2</th>\n",
       "      <td>Wy8Hswf2cLQGRZN6armkag</td>\n",
       "      <td>give plain hamburger realize put bacon allergi...</td>\n",
       "      <td>hamburger bacon eat bite window complain resta...</td>\n",
       "      <td>0</td>\n",
       "      <td>restaurant owner review way quality</td>\n",
       "      <td>Ambiance</td>\n",
       "    </tr>\n",
       "    <tr>\n",
       "      <th>3</th>\n",
       "      <td>aY_n9RSaD2Yw09jSFFePew</td>\n",
       "      <td>visit disappointed veggie husband sub sandwich...</td>\n",
       "      <td>veggie husband sub sandwich tomato sauce chees...</td>\n",
       "      <td>2</td>\n",
       "      <td>sandwich chicken fry taste cheese</td>\n",
       "      <td>Nourriture</td>\n",
       "    </tr>\n",
       "    <tr>\n",
       "      <th>4</th>\n",
       "      <td>cg4JFJcCxRTTMmcg9O9KtA</td>\n",
       "      <td>skip train wreck look dinner server clueless s...</td>\n",
       "      <td>train wreck dinner server clueless restaurant ...</td>\n",
       "      <td>4</td>\n",
       "      <td>table server drink people seat</td>\n",
       "      <td>Serveur</td>\n",
       "    </tr>\n",
       "  </tbody>\n",
       "</table>\n",
       "</div>"
      ],
      "text/plain": [
       "              business_id                                     text_processed  \\\n",
       "0  04UD14gamNjLY0IDYVhHJg  long term frequent customer establishment go t...   \n",
       "1  jNL5KUPz2-tHUJM__ysSaw  want pay terrible impressive bring basket chip...   \n",
       "2  Wy8Hswf2cLQGRZN6armkag  give plain hamburger realize put bacon allergi...   \n",
       "3  aY_n9RSaD2Yw09jSFFePew  visit disappointed veggie husband sub sandwich...   \n",
       "4  cg4JFJcCxRTTMmcg9O9KtA  skip train wreck look dinner server clueless s...   \n",
       "\n",
       "                                   Review_Only_Nouns  Topic_idx  \\\n",
       "0  term customer establishment app dick fuck cust...          1   \n",
       "1  bring basket chip tomato sauce pico bring bott...          2   \n",
       "2  hamburger bacon eat bite window complain resta...          0   \n",
       "3  veggie husband sub sandwich tomato sauce chees...          2   \n",
       "4  train wreck dinner server clueless restaurant ...          4   \n",
       "\n",
       "                             Top_Topic_Terms       Label  \n",
       "0  location customer employee manager staff      Attente  \n",
       "1         sandwich chicken fry taste cheese   Nourriture  \n",
       "2       restaurant owner review way quality     Ambiance  \n",
       "3         sandwich chicken fry taste cheese   Nourriture  \n",
       "4            table server drink people seat      Serveur  "
      ]
     },
     "execution_count": 32,
     "metadata": {},
     "output_type": "execute_result"
    }
   ],
   "source": [
    "df_nmf_termine.head(5)"
   ]
  },
  {
   "cell_type": "code",
   "execution_count": 33,
   "id": "b46ed32d",
   "metadata": {},
   "outputs": [],
   "source": [
    "vec = TfidfVectorizer(max_features=7000,\n",
    "                      stop_words=\"english\",\n",
    "                      max_df=0.95,\n",
    "                      min_df=2)\n",
    "features = vec.fit_transform(df_nmf_termine.Top_Topic_Terms)"
   ]
  },
  {
   "cell_type": "code",
   "execution_count": 34,
   "id": "f821573a",
   "metadata": {},
   "outputs": [
    {
     "name": "stderr",
     "output_type": "stream",
     "text": [
      "/home/reda/anaconda3/envs/P6/lib/python3.9/site-packages/sklearn/manifold/_t_sne.py:780: FutureWarning: The default initialization in TSNE will change from 'random' to 'pca' in 1.2.\n",
      "  warnings.warn(\n",
      "/home/reda/anaconda3/envs/P6/lib/python3.9/site-packages/seaborn/rcmod.py:400: DeprecationWarning: distutils Version classes are deprecated. Use packaging.version instead.\n",
      "  if LooseVersion(mpl.__version__) >= \"3.0\":\n",
      "/home/reda/anaconda3/envs/P6/lib/python3.9/site-packages/setuptools/_distutils/version.py:351: DeprecationWarning: distutils Version classes are deprecated. Use packaging.version instead.\n",
      "  other = LooseVersion(other)\n"
     ]
    },
    {
     "data": {
      "text/plain": [
       "<AxesSubplot:xlabel='x', ylabel='y'>"
      ]
     },
     "execution_count": 34,
     "metadata": {},
     "output_type": "execute_result"
    },
    {
     "data": {
      "image/png": "[encoded data removed]",
      "text/plain": [
       "<Figure size 842.4x595.44 with 1 Axes>"
      ]
     },
     "metadata": {},
     "output_type": "display_data"
    }
   ],
   "source": [
    "m = TSNE(learning_rate=10, perplexity=20)\n",
    "tsne_features = m.fit_transform(features)\n",
    "df_nmf_termine['x'] = tsne_features[:, 0]\n",
    "df_nmf_termine['y'] = tsne_features[:, 1]\n",
    "\n",
    "sns.set(rc={'figure.figsize': (11.7, 8.27)})\n",
    "\n",
    "fig, ax = plt.subplots()\n",
    "sns.scatterplot(x='x', y='y', hue='Label', data=df_nmf_termine)"
   ]
  },
  {
   "cell_type": "markdown",
   "id": "4c5461cb",
   "metadata": {},
   "source": [
    "# Conclusion"
   ]
  },
  {
   "cell_type": "markdown",
   "id": "be7c8c5e",
   "metadata": {},
   "source": [
    "Nous avons donc 5 Topic que ressortent :\n",
    "- Topic 1 : **Ambiance** ('restaurant', 'owner', 'review', 'way', 'quality', 'area', 'experience', 'year', 'thing', 'business')\n",
    "- Topic 2 : **Attente** ('location', 'customer', 'employee', 'manager', 'staff', 'drive', 'order', 'time', 'work', 'attitude')\n",
    "- Topic 3 : **Nourriture** ('sandwich', 'chicken', 'fry', 'taste', 'cheese', 'meat', 'rice', 'sauce', 'price', 'bread')\n",
    "- Topic 4 : **Livraison** ('delivery', 'hour', 'driver', 'store', 'time', 'tell', 'phone', 'business', 'day', 'order')\n",
    "- Topic 5 : **Serveur** ('table', 'server', 'drink', 'people', 'seat', 'bar', 'friend', 'waiter', 'hour', 'waitress')"
   ]
  },
  {
   "cell_type": "markdown",
   "id": "2c3051fc",
   "metadata": {},
   "source": [
    "NMF à l'air de donner des topics bien plus pertinents que LDA, même si les topics sont quasiment similaires."
   ]
  }
 ],
 "metadata": {
  "kernelspec": {
   "display_name": "Python (P5)",
   "language": "python",
   "name": "p5"
  },
  "language_info": {
   "codemirror_mode": {
    "name": "ipython",
    "version": 3
   },
   "file_extension": ".py",
   "mimetype": "text/x-python",
   "name": "python",
   "nbconvert_exporter": "python",
   "pygments_lexer": "ipython3",
   "version": "3.11.3"
  },
  "toc": {
   "base_numbering": 1,
   "nav_menu": {},
   "number_sections": true,
   "sideBar": true,
   "skip_h1_title": false,
   "title_cell": "Table of Contents",
   "title_sidebar": "Contents",
   "toc_cell": false,
   "toc_position": {},
   "toc_section_display": true,
   "toc_window_display": false
  }
 },
 "nbformat": 4,
 "nbformat_minor": 5
}
