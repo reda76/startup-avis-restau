{
 "cells": [
  {
   "cell_type": "markdown",
   "id": "cb8199e8",
   "metadata": {},
   "source": [
    "Nous allons dans ce notebook ajouter des données via l'API Yelp."
   ]
  },
  {
   "cell_type": "code",
   "execution_count": 1,
   "id": "383e176c",
   "metadata": {},
   "outputs": [],
   "source": [
    "import requests\n",
    "import json\n",
    "import pandas as pd"
   ]
  },
  {
   "cell_type": "code",
   "execution_count": 2,
   "id": "46f6c0bb",
   "metadata": {},
   "outputs": [],
   "source": [
    "# Récupère l'api key\n",
    "with open('key_api_yelp.txt') as f:\n",
    "    lines = f.readlines()\n",
    "\n",
    "api_key = lines[0]\n",
    "\n",
    "headers = {'Authorization': 'Bearer %s' % api_key}"
   ]
  },
  {
   "cell_type": "code",
   "execution_count": 3,
   "id": "0beab95e",
   "metadata": {},
   "outputs": [],
   "source": [
    "# Définir les en-têtes et les urls de l'endpoint\n",
    "headers = {'Authorization': 'Bearer %s' % api_key,\n",
    "           'Content-Type':'application/json'}\n",
    "url = 'https://api.yelp.com/v3/businesses'"
   ]
  },
  {
   "cell_type": "code",
   "execution_count": 4,
   "id": "93709ed4",
   "metadata": {},
   "outputs": [
    {
     "name": "stdout",
     "output_type": "stream",
     "text": [
      "0\n",
      "50\n",
      "100\n",
      "150\n",
      "200\n",
      "CPU times: user 174 ms, sys: 4.67 ms, total: 178 ms\n",
      "Wall time: 9.04 s\n"
     ]
    }
   ],
   "source": [
    "%%time\n",
    "# Créer une liste pour stocker le résultat\n",
    "resto_ids = []\n",
    "\n",
    "# Définir un dictionnaire de paramètres\n",
    "endpoint_1 = url + '/search'\n",
    "params = {'term':'restaurants',\n",
    "          'location':'Paris, France',\n",
    "          'offset':0,\n",
    "          'limit':50}\n",
    "\n",
    "current_offset=0\n",
    "current_limit=50 \n",
    "total_response = 200\n",
    "\n",
    "while current_offset <= total_response:\n",
    "    print(current_offset)\n",
    "    params['offset'] = current_offset\n",
    "    response = requests.get(url=endpoint_1,\n",
    "                            headers=headers,\n",
    "                            params=params)\n",
    "    \n",
    "    # S'assure que nous avons un identifiant unique pour l'entreprise\n",
    "    # .json décode le format en objet Python (dictionnaire)\n",
    "    if 'businesses' in response.json():\n",
    "        # Sauvegarde les identifiants en les ajoutant aux précédents\n",
    "        resto_ids += [business['id'] for business in response.json()['businesses']]\n",
    "    current_offset += current_limit"
   ]
  },
  {
   "cell_type": "code",
   "execution_count": 12,
   "id": "efe4a0c7",
   "metadata": {},
   "outputs": [
    {
     "data": {
      "text/plain": [
       "250"
      ]
     },
     "execution_count": 12,
     "metadata": {},
     "output_type": "execute_result"
    }
   ],
   "source": [
    "len(resto_ids)"
   ]
  },
  {
   "cell_type": "code",
   "execution_count": null,
   "id": "f2e90885",
   "metadata": {},
   "outputs": [],
   "source": [
    "%%time\n",
    "# Créer le dataframe qui recevra les données\n",
    "df_review = pd.DataFrame(columns=['review_id',\n",
    "                             'business_id',\n",
    "                             'rating',\n",
    "                             'text'])\n",
    "# Récupérer les commentaires associés\n",
    "i=0\n",
    "for x in resto_ids:\n",
    "    # Place l'url complète avec l'id du restaurant dans la varirable\n",
    "    # endpoint_2\n",
    "    endpoint_2 = url + '/' + str(x) + \"/reviews\"\n",
    "    response = requests.get(url=endpoint_2,\n",
    "                            headers=headers)\n",
    "    \n",
    "    # response.json ne possède que 3 lignes à la fois\n",
    "    for review in response.json()['reviews']:\n",
    "        df_review.loc[i]=[review['id'],\n",
    "                     x,\n",
    "                     review['rating'],\n",
    "                     review['text']]\n",
    "        i+=1"
   ]
  },
  {
   "cell_type": "code",
   "execution_count": 6,
   "id": "f0e8b05f",
   "metadata": {},
   "outputs": [
    {
     "name": "stdout",
     "output_type": "stream",
     "text": [
      "(736, 4)\n"
     ]
    },
    {
     "data": {
      "text/html": [
       "<div>\n",
       "<style scoped>\n",
       "    .dataframe tbody tr th:only-of-type {\n",
       "        vertical-align: middle;\n",
       "    }\n",
       "\n",
       "    .dataframe tbody tr th {\n",
       "        vertical-align: top;\n",
       "    }\n",
       "\n",
       "    .dataframe thead th {\n",
       "        text-align: right;\n",
       "    }\n",
       "</style>\n",
       "<table border=\"1\" class=\"dataframe\">\n",
       "  <thead>\n",
       "    <tr style=\"text-align: right;\">\n",
       "      <th></th>\n",
       "      <th>review_id</th>\n",
       "      <th>business_id</th>\n",
       "      <th>rating</th>\n",
       "      <th>text</th>\n",
       "    </tr>\n",
       "  </thead>\n",
       "  <tbody>\n",
       "    <tr>\n",
       "      <th>0</th>\n",
       "      <td>ujgk_YPp0MlHZQT6EEv-2A</td>\n",
       "      <td>-0iLH7iQNYtoURciDpJf6w</td>\n",
       "      <td>5</td>\n",
       "      <td>Some of the tastiest escargots I've had to dat...</td>\n",
       "    </tr>\n",
       "    <tr>\n",
       "      <th>1</th>\n",
       "      <td>nrxFK8QgnGU3zL4wTSB0PA</td>\n",
       "      <td>-0iLH7iQNYtoURciDpJf6w</td>\n",
       "      <td>2</td>\n",
       "      <td>I went back and forth trying to figure out wha...</td>\n",
       "    </tr>\n",
       "    <tr>\n",
       "      <th>2</th>\n",
       "      <td>r3bxIJ2ekrp8UPseAj2wjQ</td>\n",
       "      <td>-0iLH7iQNYtoURciDpJf6w</td>\n",
       "      <td>5</td>\n",
       "      <td>What an amazing Bistro!! First off, even if yo...</td>\n",
       "    </tr>\n",
       "    <tr>\n",
       "      <th>3</th>\n",
       "      <td>pjgcPURNS2PvAQ6a0LOShw</td>\n",
       "      <td>IU9_wVOGBKjfqTTpAXpKcQ</td>\n",
       "      <td>5</td>\n",
       "      <td>You cannot beat this spot for food, drinks, an...</td>\n",
       "    </tr>\n",
       "    <tr>\n",
       "      <th>4</th>\n",
       "      <td>G-YvPO-wUd-NIJDrahcYUg</td>\n",
       "      <td>IU9_wVOGBKjfqTTpAXpKcQ</td>\n",
       "      <td>4</td>\n",
       "      <td>what a wonderful lunch! \\nthe decor is so fren...</td>\n",
       "    </tr>\n",
       "  </tbody>\n",
       "</table>\n",
       "</div>"
      ],
      "text/plain": [
       "                review_id             business_id rating  \\\n",
       "0  ujgk_YPp0MlHZQT6EEv-2A  -0iLH7iQNYtoURciDpJf6w      5   \n",
       "1  nrxFK8QgnGU3zL4wTSB0PA  -0iLH7iQNYtoURciDpJf6w      2   \n",
       "2  r3bxIJ2ekrp8UPseAj2wjQ  -0iLH7iQNYtoURciDpJf6w      5   \n",
       "3  pjgcPURNS2PvAQ6a0LOShw  IU9_wVOGBKjfqTTpAXpKcQ      5   \n",
       "4  G-YvPO-wUd-NIJDrahcYUg  IU9_wVOGBKjfqTTpAXpKcQ      4   \n",
       "\n",
       "                                                text  \n",
       "0  Some of the tastiest escargots I've had to dat...  \n",
       "1  I went back and forth trying to figure out wha...  \n",
       "2  What an amazing Bistro!! First off, even if yo...  \n",
       "3  You cannot beat this spot for food, drinks, an...  \n",
       "4  what a wonderful lunch! \\nthe decor is so fren...  "
      ]
     },
     "execution_count": 6,
     "metadata": {},
     "output_type": "execute_result"
    }
   ],
   "source": [
    "print(df_review.shape)\n",
    "df_review.head()"
   ]
  },
  {
   "cell_type": "code",
   "execution_count": 7,
   "id": "2ec970a9",
   "metadata": {},
   "outputs": [],
   "source": [
    "# Export la dataframe dans un fichier CSV\n",
    "df_review.to_csv('data/yelp_dataset/df_review_api.csv',\n",
    "            index=False,\n",
    "            encoding='utf-8')"
   ]
  }
 ],
 "metadata": {
  "kernelspec": {
   "display_name": "Python 3 (ipykernel)",
   "language": "python",
   "name": "python3"
  },
  "language_info": {
   "codemirror_mode": {
    "name": "ipython",
    "version": 3
   },
   "file_extension": ".py",
   "mimetype": "text/x-python",
   "name": "python",
   "nbconvert_exporter": "python",
   "pygments_lexer": "ipython3",
   "version": "3.10.9"
  },
  "toc": {
   "base_numbering": 1,
   "nav_menu": {},
   "number_sections": true,
   "sideBar": true,
   "skip_h1_title": false,
   "title_cell": "Table of Contents",
   "title_sidebar": "Contents",
   "toc_cell": false,
   "toc_position": {},
   "toc_section_display": true,
   "toc_window_display": false
  }
 },
 "nbformat": 4,
 "nbformat_minor": 5
}
